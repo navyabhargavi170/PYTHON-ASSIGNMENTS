{
 "cells": [
  {
   "cell_type": "markdown",
   "metadata": {},
   "source": [
    "##  1.Write a Python Program to Find the Factorial of a Number?"
   ]
  },
  {
   "cell_type": "code",
   "execution_count": 1,
   "metadata": {},
   "outputs": [
    {
     "name": "stdout",
     "output_type": "stream",
     "text": [
      "enter a number : 15\n",
      "1307674368000\n"
     ]
    }
   ],
   "source": [
    "a = int(input(\"enter a number : \"))\n",
    "b = 1\n",
    "for i in range(1,a+1):\n",
    "    b = b*i\n",
    "print(b)"
   ]
  },
  {
   "cell_type": "markdown",
   "metadata": {},
   "source": [
    "## 2.\tWrite a Python Program to Display the multiplication Table?"
   ]
  },
  {
   "cell_type": "code",
   "execution_count": 2,
   "metadata": {},
   "outputs": [
    {
     "name": "stdout",
     "output_type": "stream",
     "text": [
      "which multiplication table do you want2\n",
      "upto the number 20\n",
      "2  *  1 = 2\n",
      "2  *  2 = 4\n",
      "2  *  3 = 6\n",
      "2  *  4 = 8\n",
      "2  *  5 = 10\n",
      "2  *  6 = 12\n",
      "2  *  7 = 14\n",
      "2  *  8 = 16\n",
      "2  *  9 = 18\n",
      "2  *  10 = 20\n",
      "2  *  11 = 22\n",
      "2  *  12 = 24\n",
      "2  *  13 = 26\n",
      "2  *  14 = 28\n",
      "2  *  15 = 30\n",
      "2  *  16 = 32\n",
      "2  *  17 = 34\n",
      "2  *  18 = 36\n",
      "2  *  19 = 38\n",
      "2  *  20 = 40\n"
     ]
    }
   ],
   "source": [
    "a = int(input(\"which multiplication table do you want\"))\n",
    "b = int(input(\"upto the number \"))\n",
    "for i in range(1,b+1):\n",
    "    c = i*a\n",
    "    print(a , ' * ' , i , '=' , c)\n",
    "    "
   ]
  },
  {
   "cell_type": "markdown",
   "metadata": {},
   "source": [
    "## 3.\tWrite a Python Program to Print the Fibonacci sequence?"
   ]
  },
  {
   "cell_type": "code",
   "execution_count": 3,
   "metadata": {},
   "outputs": [
    {
     "name": "stdout",
     "output_type": "stream",
     "text": [
      "number of series : 10\n",
      "fibonacci sequence : \n",
      "0\n",
      "1\n",
      "1\n",
      "2\n",
      "3\n",
      "5\n",
      "8\n",
      "13\n",
      "21\n",
      "34\n"
     ]
    }
   ],
   "source": [
    "a = int(input(\"number of series : \"))\n",
    "n1 , n2 = 0 , 1\n",
    "count = 0\n",
    "\n",
    "if a < 0:\n",
    "    print(\"enter positive number\")\n",
    "\n",
    "elif a == 1:\n",
    "    print(\"the fibonacci sequence for\", a, \"is 1\")\n",
    "    \n",
    "else:\n",
    "    print(\"fibonacci sequence : \")\n",
    "    while count < a:\n",
    "        print(n1)\n",
    "        b = n1 + n2\n",
    "        n1 = n2\n",
    "        n2 = b\n",
    "        count = count + 1\n",
    "        "
   ]
  },
  {
   "cell_type": "markdown",
   "metadata": {},
   "source": [
    "## 4.\tWrite a Python Program to Check Armstrong Number?"
   ]
  },
  {
   "cell_type": "code",
   "execution_count": 4,
   "metadata": {},
   "outputs": [
    {
     "name": "stdout",
     "output_type": "stream",
     "text": [
      "enter a number : 153\n",
      "153\n",
      "it is an Armstrong number\n"
     ]
    }
   ],
   "source": [
    "a = input(\"enter a number : \")\n",
    "b = list(a)\n",
    "sum = 0\n",
    "for i in b:\n",
    "    i = int(i)\n",
    "    d = (i ** len(b))\n",
    "    sum = sum+d\n",
    "\n",
    "print(str(sum))\n",
    "\n",
    "if str(sum) == a:\n",
    "    print(\"it is an Armstrong number\")\n",
    "else:\n",
    "    print(\"it is not an armstrong number\")\n",
    "    \n",
    "    \n"
   ]
  },
  {
   "cell_type": "markdown",
   "metadata": {},
   "source": [
    "## 5.\tWrite a Python Program to Find Armstrong Number in an Interval?"
   ]
  },
  {
   "cell_type": "code",
   "execution_count": 6,
   "metadata": {},
   "outputs": [
    {
     "name": "stdout",
     "output_type": "stream",
     "text": [
      "lower number : 100\n",
      "upper number : 10000\n",
      "153\n",
      "370\n",
      "371\n",
      "407\n",
      "1634\n",
      "8208\n",
      "9474\n"
     ]
    }
   ],
   "source": [
    "a = int(input(\"lower number : \"))\n",
    "b = int(input(\"upper number : \"))\n",
    "\n",
    "for i in range(a,b+1):\n",
    "    order = len(str(i))\n",
    "    sum = 0\n",
    "    temp = i\n",
    "    while temp > 0:\n",
    "        digit = temp % 10\n",
    "        sum = sum+(digit ** order)\n",
    "        temp = temp // 10 \n",
    "    if i == sum:\n",
    "        print(sum)\n",
    "   "
   ]
  },
  {
   "cell_type": "markdown",
   "metadata": {},
   "source": [
    "## 6.\tWrite a Python Program to Find the Sum of Natural Numbers?"
   ]
  },
  {
   "cell_type": "code",
   "execution_count": 5,
   "metadata": {},
   "outputs": [
    {
     "name": "stdout",
     "output_type": "stream",
     "text": [
      "enter a number : 15\n",
      "120\n"
     ]
    }
   ],
   "source": [
    "a = int(input(\"enter a number : \"))\n",
    "sum = 0\n",
    "for i in range(1,a+1):\n",
    "    sum = sum+i\n",
    "print(sum)"
   ]
  }
 ],
 "metadata": {
  "kernelspec": {
   "display_name": "Python 3",
   "language": "python",
   "name": "python3"
  },
  "language_info": {
   "codemirror_mode": {
    "name": "ipython",
    "version": 3
   },
   "file_extension": ".py",
   "mimetype": "text/x-python",
   "name": "python",
   "nbconvert_exporter": "python",
   "pygments_lexer": "ipython3",
   "version": "3.8.5"
  }
 },
 "nbformat": 4,
 "nbformat_minor": 4
}
