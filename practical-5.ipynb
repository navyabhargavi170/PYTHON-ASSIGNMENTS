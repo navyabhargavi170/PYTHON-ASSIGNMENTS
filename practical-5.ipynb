{
 "cells": [
  {
   "cell_type": "markdown",
   "id": "5db6ae06",
   "metadata": {},
   "source": [
    "## 1. Why are functions advantageous to have in your programs?"
   ]
  },
  {
   "cell_type": "markdown",
   "id": "413f5c11",
   "metadata": {},
   "source": [
    "\"Functions\" are one of the most important topic in python. Functions are very useful and by using functions in our program it looks very clear and simple. To define a function in a program we the keyword \"def\". Functions are very helpful in a program by using this we can minimize the size of the program and we can also reuse the code whenever and wherever we want to . "
   ]
  },
  {
   "cell_type": "markdown",
   "id": "21dcbeb2",
   "metadata": {},
   "source": [
    "## 2. When does the code in a function run: when it's specified or when it's called?"
   ]
  },
  {
   "cell_type": "markdown",
   "id": "b6b71d88",
   "metadata": {},
   "source": [
    "The code in a function specified within the keyword \"def\" we have to call the function by the user_defined name to run the function."
   ]
  },
  {
   "cell_type": "code",
   "execution_count": 1,
   "id": "3a458684",
   "metadata": {},
   "outputs": [],
   "source": [
    "#for example\n",
    "def mess():                         #specifing the function\n",
    "    print(\"Hello! world\")\n",
    "# by specifing the function we just saving the code with a function name thats it , it willnot execute the code utill we called it"
   ]
  },
  {
   "cell_type": "code",
   "execution_count": 2,
   "id": "54fb5a85",
   "metadata": {},
   "outputs": [
    {
     "name": "stdout",
     "output_type": "stream",
     "text": [
      "Hello! world\n"
     ]
    }
   ],
   "source": [
    "# calling the function\n",
    "mess()"
   ]
  },
  {
   "cell_type": "markdown",
   "id": "38748555",
   "metadata": {},
   "source": [
    "## 3. What statement creates a function?"
   ]
  },
  {
   "cell_type": "markdown",
   "id": "4e82544e",
   "metadata": {},
   "source": [
    "### syntax\n",
    "def fun_name():        \n",
    "    ------\n",
    "    code\n",
    "    ------\n",
    "    return_value\n",
    "    \n",
    "fun_name()\n",
    "\n",
    "#### \"def\" is the statement used to create a function"
   ]
  },
  {
   "cell_type": "markdown",
   "id": "a73c0393",
   "metadata": {},
   "source": [
    "## 4. What is the difference between a function and a function call?"
   ]
  },
  {
   "cell_type": "markdown",
   "id": "5460c4c9",
   "metadata": {},
   "source": [
    "A function is just to define what to do , function call means it call the function to execute what is defined in the function."
   ]
  },
  {
   "cell_type": "code",
   "execution_count": 1,
   "id": "51a1fcf4",
   "metadata": {},
   "outputs": [
    {
     "data": {
      "text/plain": [
       "'HELLO,WORLD'"
      ]
     },
     "execution_count": 1,
     "metadata": {},
     "output_type": "execute_result"
    }
   ],
   "source": [
    "def mes():                   #function\n",
    "    return (\"hello,world\")        \n",
    "\n",
    "mes().upper()               #function call"
   ]
  },
  {
   "cell_type": "markdown",
   "id": "7934155e",
   "metadata": {},
   "source": [
    "## 5. How many global scopes are there in a Python program? How many local scopes?"
   ]
  },
  {
   "cell_type": "code",
   "execution_count": null,
   "id": "acaf340e",
   "metadata": {},
   "outputs": [],
   "source": [
    "There is only one "
   ]
  },
  {
   "cell_type": "markdown",
   "id": "d5aba409",
   "metadata": {},
   "source": [
    "## 5. How many global scopes are there in a Python program? How many local scopes?"
   ]
  },
  {
   "cell_type": "markdown",
   "id": "0b27c41e",
   "metadata": {},
   "source": [
    "In a python language, Global and Local variables are two different variables used in functions frequently A GLOBAL variable is \n",
    "a variable that is define outside the function , we can also define the Global variable inside a function by usingthe \"global\" keyword. Local variables are the variables defined inside a function only. "
   ]
  },
  {
   "cell_type": "markdown",
   "id": "7f3b2838",
   "metadata": {},
   "source": [
    "## 6. What happens to variables in a local scope when the function call returns?"
   ]
  },
  {
   "cell_type": "markdown",
   "id": "58a38cca",
   "metadata": {},
   "source": [
    "local scope or local variables are the variables within a function definition. when the function calls return the variable will execute first , if dont mention the return it will return none ."
   ]
  },
  {
   "cell_type": "markdown",
   "id": "fe0db7bb",
   "metadata": {},
   "source": [
    "## 7. What is the concept of a return value? Is it possible to have a return value in an expression?"
   ]
  },
  {
   "cell_type": "markdown",
   "id": "7398492f",
   "metadata": {},
   "source": [
    "Return value is very important in functions concept . It returns a value ,we have to use \"return\" keyword to return the value in \n",
    "the output. Yes it is possible to have a return value in an expression."
   ]
  },
  {
   "cell_type": "markdown",
   "id": "8f1a30d1",
   "metadata": {},
   "source": [
    "## 8. If a function does not have a return statement, what is the return value of a call to that function?"
   ]
  },
  {
   "cell_type": "markdown",
   "id": "11e318ae",
   "metadata": {},
   "source": [
    "if we didnt give a return statement in a function, it doesnot return any value , if we use print instead of return we can get a value ."
   ]
  },
  {
   "cell_type": "code",
   "execution_count": 1,
   "id": "b39420e0",
   "metadata": {},
   "outputs": [
    {
     "name": "stdout",
     "output_type": "stream",
     "text": [
      "navya\n"
     ]
    },
    {
     "data": {
      "text/plain": [
       "'navya'"
      ]
     },
     "execution_count": 1,
     "metadata": {},
     "output_type": "execute_result"
    }
   ],
   "source": [
    "#example having a return statement in the function\n",
    "def name():\n",
    "    a = input()\n",
    "    return a\n",
    "name()"
   ]
  },
  {
   "cell_type": "code",
   "execution_count": 5,
   "id": "24cbd0c0",
   "metadata": {},
   "outputs": [],
   "source": [
    "#example without having a return statement\n",
    "def name():\n",
    "    a = 'navya'\n",
    "name()"
   ]
  },
  {
   "cell_type": "code",
   "execution_count": 6,
   "id": "eb55f06a",
   "metadata": {},
   "outputs": [
    {
     "name": "stdout",
     "output_type": "stream",
     "text": [
      "navya\n"
     ]
    }
   ],
   "source": [
    "#example defining print statement insted of return statement\n",
    "def name():\n",
    "    a = 'navya'\n",
    "    print(a)\n",
    "    \n",
    "name()"
   ]
  },
  {
   "cell_type": "markdown",
   "id": "94022f75",
   "metadata": {},
   "source": [
    "## 9. How do you make a function variable refer to the global variable?"
   ]
  },
  {
   "cell_type": "markdown",
   "id": "6b4c9915",
   "metadata": {},
   "source": [
    "To refer a function variable to a global varibale , we have to use \"global\" keyword ."
   ]
  },
  {
   "cell_type": "code",
   "execution_count": 8,
   "id": "5fe9184b",
   "metadata": {},
   "outputs": [
    {
     "name": "stdout",
     "output_type": "stream",
     "text": [
      "10\n"
     ]
    }
   ],
   "source": [
    "a = 10\n",
    "def num():\n",
    "    global a\n",
    "    print(a)\n",
    "    \n",
    "num()"
   ]
  },
  {
   "cell_type": "markdown",
   "id": "aaf5195b",
   "metadata": {},
   "source": [
    "## 10. What is the data type of None?"
   ]
  },
  {
   "cell_type": "markdown",
   "id": "d145be1e",
   "metadata": {},
   "source": [
    "None is data type as well as it is a keyword too. It is used to define there is null variable or an oblect . We can create a None variable  but we cannot create None type objects."
   ]
  },
  {
   "cell_type": "markdown",
   "id": "bed421bb",
   "metadata": {},
   "source": [
    "##  11. What does the sentence import areallyourpetsnamederic do?"
   ]
  },
  {
   "cell_type": "markdown",
   "id": "d28307dc",
   "metadata": {},
   "source": [
    "The sentence in the above question imports the name of the pet deric, the sentence says \"are all your pets name deric\"."
   ]
  },
  {
   "cell_type": "markdown",
   "id": "e10b9af4",
   "metadata": {},
   "source": [
    "## 12. If you had a bacon() feature in a spam module, what would you call it after importing spam?"
   ]
  },
  {
   "cell_type": "markdown",
   "id": "88cb4e59",
   "metadata": {},
   "source": [
    "The function is called as spam.bacon(). For other we have to call it as \"module_name.funtion_name()\"."
   ]
  },
  {
   "cell_type": "markdown",
   "id": "4732f672",
   "metadata": {},
   "source": [
    "## 13.What can you do to save a programme from crashing if it encounters an error?"
   ]
  },
  {
   "cell_type": "markdown",
   "id": "2362f0d6",
   "metadata": {},
   "source": [
    "if a program encounters an error , we don’t have to clear or rewrite the program or completely crash the program instead of those we can resolve the code errors by reading the error arise in the program ."
   ]
  },
  {
   "cell_type": "markdown",
   "id": "4e417ae6",
   "metadata": {},
   "source": [
    "## 14. What is the purpose of the try clause? What is the purpose of the except clause?"
   ]
  },
  {
   "cell_type": "raw",
   "id": "0535ae65",
   "metadata": {},
   "source": [
    "try and except clause are two important clause used in python .\n",
    "try clause executed only when it is error free or else it go to except block execute. except block execute the error message. "
   ]
  },
  {
   "cell_type": "code",
   "execution_count": 10,
   "id": "59fb4480",
   "metadata": {},
   "outputs": [
    {
     "name": "stdout",
     "output_type": "stream",
     "text": [
      "variable without quotes \n"
     ]
    }
   ],
   "source": [
    "try:\n",
    "    print(variable)\n",
    "except:\n",
    "    print(\"variable without quotes \")"
   ]
  },
  {
   "cell_type": "code",
   "execution_count": null,
   "id": "7af4274a",
   "metadata": {},
   "outputs": [],
   "source": []
  }
 ],
 "metadata": {
  "kernelspec": {
   "display_name": "Python 3",
   "language": "python",
   "name": "python3"
  },
  "language_info": {
   "codemirror_mode": {
    "name": "ipython",
    "version": 3
   },
   "file_extension": ".py",
   "mimetype": "text/x-python",
   "name": "python",
   "nbconvert_exporter": "python",
   "pygments_lexer": "ipython3",
   "version": "3.8.8"
  }
 },
 "nbformat": 4,
 "nbformat_minor": 5
}
