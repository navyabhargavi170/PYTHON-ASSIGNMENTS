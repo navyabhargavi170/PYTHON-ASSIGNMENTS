{
 "cells": [
  {
   "cell_type": "markdown",
   "metadata": {},
   "source": [
    "## 1.Write a Python program to convert kilometers to miles?"
   ]
  },
  {
   "cell_type": "code",
   "execution_count": 6,
   "metadata": {},
   "outputs": [
    {
     "name": "stdout",
     "output_type": "stream",
     "text": [
      "enter the value : 1\n",
      "1.0 km is about 0.625 miles\n"
     ]
    }
   ],
   "source": [
    "kilometers = float(input(\"enter the value : \"))\n",
    "a = kilometers / 2\n",
    "b = a / 4\n",
    "c = a + b\n",
    "print(kilometers,\"km is about\",c,\"miles\")"
   ]
  },
  {
   "cell_type": "markdown",
   "metadata": {},
   "source": [
    "## 2.Write a Python program to convert Celsius to Fahrenheit?"
   ]
  },
  {
   "cell_type": "code",
   "execution_count": 12,
   "metadata": {},
   "outputs": [
    {
     "name": "stdout",
     "output_type": "stream",
     "text": [
      "enter the centigrate : 100\n",
      "The 100.0 centigate is equal to 212.0 fahenheit\n"
     ]
    }
   ],
   "source": [
    "c = float(input(\"enter the centigrate : \"))\n",
    "f = (c*9/5)+32\n",
    "print(\"The {0} centigate is equal to {1} fahenheit\" . format( c , f))"
   ]
  },
  {
   "cell_type": "markdown",
   "metadata": {},
   "source": [
    "## 3.Write a Python program to display calendar?"
   ]
  },
  {
   "cell_type": "code",
   "execution_count": 20,
   "metadata": {},
   "outputs": [
    {
     "name": "stdout",
     "output_type": "stream",
     "text": [
      " enter year : 2012\n",
      "enter month : 5\n",
      "      May 2012\n",
      "Mo Tu We Th Fr Sa Su\n",
      "    1  2  3  4  5  6\n",
      " 7  8  9 10 11 12 13\n",
      "14 15 16 17 18 19 20\n",
      "21 22 23 24 25 26 27\n",
      "28 29 30 31\n",
      " "
     ]
    }
   ],
   "source": [
    "import calendar\n",
    "yy = int(input(\"enter year : \"))\n",
    "mm = int(input(\"enter month : \"))\n",
    "print(calendar . month(yy,mm,), end = \" \")"
   ]
  },
  {
   "cell_type": "markdown",
   "metadata": {},
   "source": [
    "## 4.Write a Python program to solve quadratic equation?"
   ]
  },
  {
   "cell_type": "code",
   "execution_count": 42,
   "metadata": {},
   "outputs": [
    {
     "name": "stdout",
     "output_type": "stream",
     "text": [
      "enter value : 1\n",
      "enter value : 5\n",
      "enter value : 6\n",
      "The solution to the values a=1.0, b=5.0, c=6.0 is -2.0 and -3.0\n"
     ]
    }
   ],
   "source": [
    "a = float(input(\"enter value : \"))\n",
    "b = float(input(\"enter value : \"))\n",
    "c = float(input(\"enter value : \"))\n",
    "# quadartic equation −b ± √(b2 − 4ac) 2a\n",
    "\n",
    "d = (((b**2)-(4*a*c))**0.5)\n",
    "\n",
    "qua_eqa1 = (-b + d) / (2*a)\n",
    "qua_eqa2 = (-b - d) / (2*a)\n",
    "\n",
    "print(\"The solution to the values a={0}, b={1}, c={2} is {3} and {4}\" .format(a,b,c,qua_eqa1,qua_eqa2))"
   ]
  },
  {
   "cell_type": "markdown",
   "metadata": {},
   "source": [
    "## 5.Write a Python program to swap two variables without temp variable?"
   ]
  },
  {
   "cell_type": "code",
   "execution_count": 55,
   "metadata": {},
   "outputs": [
    {
     "name": "stdout",
     "output_type": "stream",
     "text": [
      " the swap of a=2 and b=3 is A=3 ,B=2\n"
     ]
    }
   ],
   "source": [
    "a = 2\n",
    "b = 3\n",
    "#swaping \n",
    "a = a + b\n",
    "b = a - b\n",
    "a = a - b\n",
    "#swaped variables\n",
    "A = a\n",
    "B = b\n",
    "print( \" the swap of a=2 and b=3 is A={0} ,B={1}\" . format(A,B))"
   ]
  }
 ],
 "metadata": {
  "kernelspec": {
   "display_name": "Python 3",
   "language": "python",
   "name": "python3"
  },
  "language_info": {
   "codemirror_mode": {
    "name": "ipython",
    "version": 3
   },
   "file_extension": ".py",
   "mimetype": "text/x-python",
   "name": "python",
   "nbconvert_exporter": "python",
   "pygments_lexer": "ipython3",
   "version": "3.8.5"
  }
 },
 "nbformat": 4,
 "nbformat_minor": 4
}
