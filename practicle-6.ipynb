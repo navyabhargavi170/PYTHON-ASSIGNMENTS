{
 "cells": [
  {
   "cell_type": "markdown",
   "id": "40abf0e1",
   "metadata": {},
   "source": [
    "## 1. What does an empty dictionary's code look like?"
   ]
  },
  {
   "cell_type": "markdown",
   "id": "e338e1a7",
   "metadata": {},
   "source": [
    "Dictionary's are one of the Data structures usedin python. This is unodered, mutable and it have key,values.An empty dictionary\n",
    "is look like"
   ]
  },
  {
   "cell_type": "code",
   "execution_count": 2,
   "id": "24ff17dd",
   "metadata": {},
   "outputs": [
    {
     "name": "stdout",
     "output_type": "stream",
     "text": [
      "<class 'dict'>\n"
     ]
    }
   ],
   "source": [
    "a = dict()\n",
    "print(type(a))"
   ]
  },
  {
   "cell_type": "code",
   "execution_count": 5,
   "id": "6914314b",
   "metadata": {},
   "outputs": [
    {
     "data": {
      "text/plain": [
       "dict"
      ]
     },
     "execution_count": 5,
     "metadata": {},
     "output_type": "execute_result"
    }
   ],
   "source": [
    "dic ={}\n",
    "type(dic)"
   ]
  },
  {
   "cell_type": "markdown",
   "id": "3770e599",
   "metadata": {},
   "source": [
    "These are the two ways of empty dictionary's"
   ]
  },
  {
   "cell_type": "markdown",
   "id": "4f50a056",
   "metadata": {},
   "source": [
    "## 2. What is the value of a dictionary value with the key 'foo' and the value 42?"
   ]
  },
  {
   "cell_type": "code",
   "execution_count": 7,
   "id": "6f7cfb69",
   "metadata": {},
   "outputs": [],
   "source": [
    "a = {'foo':42}"
   ]
  },
  {
   "cell_type": "code",
   "execution_count": 9,
   "id": "94fab9fc",
   "metadata": {},
   "outputs": [
    {
     "data": {
      "text/plain": [
       "42"
      ]
     },
     "execution_count": 9,
     "metadata": {},
     "output_type": "execute_result"
    }
   ],
   "source": [
    "a['foo']"
   ]
  },
  {
   "cell_type": "markdown",
   "id": "e03e1698",
   "metadata": {},
   "source": [
    "## 3. What is the most significant distinction between a dictionary and a list?"
   ]
  },
  {
   "cell_type": "markdown",
   "id": "a811eb55",
   "metadata": {},
   "source": [
    " LIST: list is one of the most important data structure in the python language.It is ordered and mutable. it can access of data.we can add,delete,we can add nested list ,indexing is also done.\n",
    " \n",
    " DICTIONARY:Dictionary is also most important data structure.It is unordered,mutable.In lists we use indexx numbers for indexing,but in dictionary we have key names to get the values.In dictionary's we have key names and there values ."
   ]
  },
  {
   "cell_type": "code",
   "execution_count": 2,
   "id": "cc937dd7",
   "metadata": {},
   "outputs": [
    {
     "name": "stdout",
     "output_type": "stream",
     "text": [
      "[1, 2, 3, 4, 5, 6] <class 'list'>\n",
      "{'n1': 1, 'n2': 2, 'n3': 3, 'n4': 4} <class 'dict'>\n"
     ]
    }
   ],
   "source": [
    "list_1 = [1,2,3,4,5,6]\n",
    "dict_2 = {\"n1\":1,\"n2\":2,\"n3\":3,\"n4\":4}\n",
    "print(list_1,type(list_1))\n",
    "print(dict_2,type(dict_2))"
   ]
  },
  {
   "cell_type": "markdown",
   "id": "5c48948a",
   "metadata": {},
   "source": [
    "## 4. What happens if you try to access spam['foo'] if spam is {'bar': 100}?"
   ]
  },
  {
   "cell_type": "code",
   "execution_count": 3,
   "id": "5a8c2015",
   "metadata": {},
   "outputs": [
    {
     "ename": "KeyError",
     "evalue": "'foo'",
     "output_type": "error",
     "traceback": [
      "\u001b[1;31m---------------------------------------------------------------------------\u001b[0m",
      "\u001b[1;31mKeyError\u001b[0m                                  Traceback (most recent call last)",
      "\u001b[1;32m<ipython-input-3-3fa7eee1403a>\u001b[0m in \u001b[0;36m<module>\u001b[1;34m\u001b[0m\n\u001b[0;32m      1\u001b[0m \u001b[0mspam\u001b[0m\u001b[1;33m=\u001b[0m\u001b[1;33m{\u001b[0m\u001b[1;34m'bar'\u001b[0m\u001b[1;33m:\u001b[0m\u001b[1;36m100\u001b[0m\u001b[1;33m}\u001b[0m\u001b[1;33m\u001b[0m\u001b[1;33m\u001b[0m\u001b[0m\n\u001b[1;32m----> 2\u001b[1;33m \u001b[0mspam\u001b[0m\u001b[1;33m[\u001b[0m\u001b[1;34m'foo'\u001b[0m\u001b[1;33m]\u001b[0m\u001b[1;33m\u001b[0m\u001b[1;33m\u001b[0m\u001b[0m\n\u001b[0m",
      "\u001b[1;31mKeyError\u001b[0m: 'foo'"
     ]
    }
   ],
   "source": [
    "spam={'bar':100}\n",
    "spam['foo']"
   ]
  },
  {
   "cell_type": "markdown",
   "id": "7c1699e2",
   "metadata": {},
   "source": [
    "It shows an error because 'foo' is not present in spam as key name or value."
   ]
  },
  {
   "cell_type": "markdown",
   "id": "399a5711",
   "metadata": {},
   "source": [
    "## 5. If a dictionary is stored in spam, what is the difference between the expressions 'cat' in spam and 'cat' in spam.keys()?"
   ]
  },
  {
   "cell_type": "markdown",
   "id": "d635c7f4",
   "metadata": {},
   "source": [
    "'cat' in spam checks whether there is 'cat' value exists in spam or not, 'cat' in spam.keys() check whether there is any key name present in dictionary or not."
   ]
  },
  {
   "cell_type": "markdown",
   "id": "96fcd622",
   "metadata": {},
   "source": [
    "## 6. If a dictionary is stored in spam, what is the difference between the expressions 'cat' in spam and 'cat' in spam.values()?"
   ]
  },
  {
   "cell_type": "markdown",
   "id": "6f71593a",
   "metadata": {},
   "source": [
    "'cat' in spam checks whether there is 'cat' value exists in spam or not, 'cat' in spam.keys() check whether there is any keyname consistis of that value or not."
   ]
  },
  {
   "cell_type": "markdown",
   "id": "b068cae4",
   "metadata": {},
   "source": [
    "## 7. What is a shortcut for the following code?\n",
    "## if 'color' not in spam:\n",
    "## spam['color'] = 'black'\n"
   ]
  },
  {
   "cell_type": "code",
   "execution_count": 16,
   "id": "397e4350",
   "metadata": {},
   "outputs": [
    {
     "data": {
      "text/plain": [
       "{'name1': 'ravi', 'name2': 'navi', 'color': 'black'}"
      ]
     },
     "execution_count": 16,
     "metadata": {},
     "output_type": "execute_result"
    }
   ],
   "source": [
    "spam ={'name1':'ravi','name2':'navi'}\n",
    "#if 'color' not in spam:\n",
    "#    spam['color'] = 'black'\n",
    "\n",
    "#shortcut \n",
    "spam.setdefault('color','black')\n",
    "spam"
   ]
  },
  {
   "cell_type": "markdown",
   "id": "ab0c3f51",
   "metadata": {},
   "source": [
    "## 8. How do you \"pretty print\" dictionary values using which module and function?"
   ]
  },
  {
   "cell_type": "markdown",
   "id": "21a9ca6e",
   "metadata": {},
   "source": [
    "we have to import the pprint module to pretty print the values . we haveto use pprint(). "
   ]
  },
  {
   "cell_type": "code",
   "execution_count": null,
   "id": "b77b80d6",
   "metadata": {},
   "outputs": [],
   "source": []
  }
 ],
 "metadata": {
  "kernelspec": {
   "display_name": "Python 3",
   "language": "python",
   "name": "python3"
  },
  "language_info": {
   "codemirror_mode": {
    "name": "ipython",
    "version": 3
   },
   "file_extension": ".py",
   "mimetype": "text/x-python",
   "name": "python",
   "nbconvert_exporter": "python",
   "pygments_lexer": "ipython3",
   "version": "3.8.8"
  }
 },
 "nbformat": 4,
 "nbformat_minor": 5
}
