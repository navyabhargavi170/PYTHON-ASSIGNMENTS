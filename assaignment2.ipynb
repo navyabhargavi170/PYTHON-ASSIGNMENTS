{
 "cells": [
  {
   "cell_type": "markdown",
   "metadata": {},
   "source": [
    "## 1.Write a Python program to print \"Hello Python\"? "
   ]
  },
  {
   "cell_type": "code",
   "execution_count": 7,
   "metadata": {},
   "outputs": [
    {
     "name": "stdout",
     "output_type": "stream",
     "text": [
      "Hello Python\n"
     ]
    }
   ],
   "source": [
    "a = \"Hello\"\n",
    "b = \"Python\"\n",
    "print( a +\" \"+ b )"
   ]
  },
  {
   "cell_type": "markdown",
   "metadata": {},
   "source": [
    "## 2.Write a Python program to do arithmetical operations addition and division.? "
   ]
  },
  {
   "cell_type": "code",
   "execution_count": 11,
   "metadata": {},
   "outputs": [
    {
     "name": "stdout",
     "output_type": "stream",
     "text": [
      " addition of a and b is  30\n",
      " division of a and b is  0.5\n"
     ]
    }
   ],
   "source": [
    "a = 10\n",
    "b = 20\n",
    "addition = a+b\n",
    "division = a/b\n",
    "print(\" addition of a and b is \",addition)\n",
    "print(\" division of a and b is \",division)"
   ]
  },
  {
   "cell_type": "markdown",
   "metadata": {},
   "source": [
    "## 3.Write a Python program to find the area of a triangle?"
   ]
  },
  {
   "cell_type": "code",
   "execution_count": 14,
   "metadata": {},
   "outputs": [
    {
     "name": "stdout",
     "output_type": "stream",
     "text": [
      "base = 10\n",
      "height = 25\n",
      "area of a triangle with base 10.0 and height 25.0 is 125.0\n"
     ]
    }
   ],
   "source": [
    "x = float(input(\"base = \"))\n",
    "y = float(input(\"height = \"))\n",
    "# area of a triangle\n",
    "area_of_a_triangle = (x * y)/2\n",
    "print( \"area of a triangle with \" + \"base\" , x , \"and height\" , y , \"is\" , area_of_a_triangle)"
   ]
  },
  {
   "cell_type": "markdown",
   "metadata": {},
   "source": [
    "## 4.Write a Python program to swap two variables? "
   ]
  },
  {
   "cell_type": "code",
   "execution_count": 24,
   "metadata": {},
   "outputs": [
    {
     "name": "stdout",
     "output_type": "stream",
     "text": [
      "The swap of two variables a and b is  ravi and navya\n"
     ]
    }
   ],
   "source": [
    "a = \"navya\"\n",
    "b = \"ravi\"\n",
    "c = a                         #c is temporary variable \n",
    "a = b\n",
    "b = c\n",
    "print(\"The swap of two variables a and b is \" , a ,\"and\", b)"
   ]
  },
  {
   "cell_type": "markdown",
   "metadata": {},
   "source": [
    "## 5.Write a Python program to generate a random number?"
   ]
  },
  {
   "cell_type": "code",
   "execution_count": 44,
   "metadata": {},
   "outputs": [
    {
     "name": "stdout",
     "output_type": "stream",
     "text": [
      " enter a random_number =4\n",
      " enter a random_number = 8\n",
      " enter a random_number =6\n",
      " enter a random_number =7\n",
      "0\n"
     ]
    }
   ],
   "source": [
    "a = int(input(\" enter a random_number =\"))\n",
    "b = int(input(\" enter a random_number = \"))\n",
    "c = int(input(\" enter a random_number =\")) \n",
    "r = int(input(\" enter a random_number =\"))\n",
    "# formula to genrate random number is (r*(a+b))modc\n",
    "\n",
    "random = (r *(a+b)) % c\n",
    "print( random)"
   ]
  },
  {
   "cell_type": "code",
   "execution_count": 40,
   "metadata": {},
   "outputs": [
    {
     "name": "stdout",
     "output_type": "stream",
     "text": [
      "2\n"
     ]
    }
   ],
   "source": [
    "import random\n",
    "print(random . randint(0,9))"
   ]
  },
  {
   "cell_type": "code",
   "execution_count": null,
   "metadata": {},
   "outputs": [],
   "source": []
  }
 ],
 "metadata": {
  "kernelspec": {
   "display_name": "Python 3",
   "language": "python",
   "name": "python3"
  },
  "language_info": {
   "codemirror_mode": {
    "name": "ipython",
    "version": 3
   },
   "file_extension": ".py",
   "mimetype": "text/x-python",
   "name": "python",
   "nbconvert_exporter": "python",
   "pygments_lexer": "ipython3",
   "version": "3.8.5"
  }
 },
 "nbformat": 4,
 "nbformat_minor": 4
}
