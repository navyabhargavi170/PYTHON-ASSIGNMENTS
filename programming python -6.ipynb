{
 "cells": [
  {
   "cell_type": "markdown",
   "id": "1e1aec94",
   "metadata": {},
   "source": [
    "### Write a Python Program to find sum of array?"
   ]
  },
  {
   "cell_type": "code",
   "execution_count": 3,
   "id": "d310e63b",
   "metadata": {},
   "outputs": [
    {
     "name": "stdout",
     "output_type": "stream",
     "text": [
      "enter length of an array(to add):3\n",
      "Enter values:\n",
      "6\n",
      "5\n",
      "45\n",
      "[6, 5, 45]\n",
      "The sum of the listed values is 56\n"
     ]
    }
   ],
   "source": [
    "def arr():\n",
    "    arr = []\n",
    "    a = int(input(\"enter length of an array(to add):\"))\n",
    "    print(\"Enter values:\")\n",
    "    for i in range(0,a):\n",
    "        i = int(input())\n",
    "        arr.append(i)\n",
    "    print(arr)\n",
    "    add = sum(arr)\n",
    "    print(\"The sum of the listed values is \"+str(add))\n",
    "    \n",
    "arr()"
   ]
  },
  {
   "cell_type": "markdown",
   "id": "cd46362a",
   "metadata": {},
   "source": [
    "### Write a Python Program to find largest element in an array?"
   ]
  },
  {
   "cell_type": "code",
   "execution_count": 4,
   "id": "2f281f85",
   "metadata": {},
   "outputs": [],
   "source": [
    "import max_num"
   ]
  },
  {
   "cell_type": "code",
   "execution_count": 5,
   "id": "40ae0230",
   "metadata": {},
   "outputs": [
    {
     "name": "stdout",
     "output_type": "stream",
     "text": [
      "enter values to find highest value :\n",
      "6\n",
      "6\n",
      "8\n",
      "95\n",
      "23\n",
      "4\n",
      "[6, 6, 8, 95, 23, 4]\n",
      "The largest value in the list is 95\n"
     ]
    }
   ],
   "source": [
    "max_num.max_num(6)"
   ]
  },
  {
   "cell_type": "raw",
   "id": "f79e05ed",
   "metadata": {},
   "source": [
    "# Imported program as max_num\n",
    "\n",
    "def max_num(ran):\n",
    "    a = []\n",
    "    print(\"enter values to find highest value :\")\n",
    "    for i in range(ran):\n",
    "        i = int(input())\n",
    "        a.append(i)\n",
    "    print(a)\n",
    "    max_value=max(a)\n",
    "    print(\"The largest value in the list is \"+str(max_value))"
   ]
  },
  {
   "cell_type": "markdown",
   "id": "ec195c5f",
   "metadata": {},
   "source": [
    "### Write a Python Program for array rotation?"
   ]
  },
  {
   "cell_type": "code",
   "execution_count": 2,
   "id": "f8deea38",
   "metadata": {},
   "outputs": [
    {
     "name": "stdout",
     "output_type": "stream",
     "text": [
      " 3  4  5  6  7  1  2 "
     ]
    }
   ],
   "source": [
    "def leftRotate(arr, d, n):\n",
    "    for i in range(d):\n",
    "        leftRotatebyOne(arr, n)\n",
    " \n",
    "# Function to left Rotate arr[] of size n by 1\n",
    "def leftRotatebyOne(arr, n):\n",
    "    temp = arr[0]\n",
    "    for i in range(n-1):\n",
    "        arr[i] = arr[i + 1]\n",
    "    arr[n-1] = temp\n",
    "         \n",
    " \n",
    "# utility function to print an array\n",
    "def printArray(arr, size):\n",
    "    for i in range(size):\n",
    "        print (\"% d\"% arr[i], end =\" \")\n",
    " \n",
    "  \n",
    "# Driver program to test above functions */\n",
    "arr = [1, 2, 3, 4, 5, 6, 7]\n",
    "leftRotate(arr, 2, 7)\n",
    "printArray(arr, 7)\n",
    " "
   ]
  },
  {
   "cell_type": "markdown",
   "id": "e8628c5c",
   "metadata": {},
   "source": [
    "### Write a Python Program to Split the array and add the first part to the end?"
   ]
  },
  {
   "cell_type": "code",
   "execution_count": 34,
   "id": "b04b847d",
   "metadata": {},
   "outputs": [
    {
     "name": "stdout",
     "output_type": "stream",
     "text": [
      "3 4 5 6 7 1 2 "
     ]
    }
   ],
   "source": [
    "def splitArr(arr, n, k):\n",
    "    for i in range(0, k):\n",
    "        x = arr[0]\n",
    "        for j in range(0, n-1):\n",
    "            arr[j] = arr[j + 1]\n",
    "         \n",
    "        arr[n-1] = x\n",
    "         \n",
    " \n",
    "# main\n",
    "arr = [1,2,3,4,5,6,7]\n",
    "n = len(arr)\n",
    "position = 2\n",
    " \n",
    "splitArr(arr, n, position)\n",
    " \n",
    "for i in range(0, n):\n",
    "    print(arr[i], end = ' ')\n",
    "     "
   ]
  },
  {
   "cell_type": "markdown",
   "id": "bfc65eeb",
   "metadata": {},
   "source": [
    "## Write a Python Program to check if given array is Monotonic?"
   ]
  },
  {
   "cell_type": "code",
   "execution_count": 16,
   "id": "a5574c8d",
   "metadata": {},
   "outputs": [
    {
     "name": "stdout",
     "output_type": "stream",
     "text": [
      "True\n"
     ]
    }
   ],
   "source": [
    "a= [3,1,0]\n",
    "\n",
    "if a[1]>a[0] and a[2]>a[1]:\n",
    "    print(True)\n",
    "elif a[0]>a[1] and a[1]>a[2]:\n",
    "    print(True)\n",
    "else:\n",
    "    print(False)\n",
    "    "
   ]
  },
  {
   "cell_type": "code",
   "execution_count": 9,
   "id": "07aae485",
   "metadata": {},
   "outputs": [
    {
     "name": "stdout",
     "output_type": "stream",
     "text": [
      "True\n"
     ]
    }
   ],
   "source": [
    "def isMonotonic(A):\n",
    "  \n",
    "    return (all(A[i] <= A[i + 1] for i in range(len(A) - 1)) or\n",
    "            all(A[i] >= A[i + 1] for i in range(len(A) - 1)))\n",
    "  \n",
    "# Driver program\n",
    "A = [6, 5, 4, 4]\n",
    "  \n",
    "# Print required result\n",
    "print(isMonotonic(A))\n",
    "  "
   ]
  },
  {
   "cell_type": "code",
   "execution_count": null,
   "id": "1c17ef62",
   "metadata": {},
   "outputs": [],
   "source": []
  }
 ],
 "metadata": {
  "kernelspec": {
   "display_name": "Python 3 (ipykernel)",
   "language": "python",
   "name": "python3"
  },
  "language_info": {
   "codemirror_mode": {
    "name": "ipython",
    "version": 3
   },
   "file_extension": ".py",
   "mimetype": "text/x-python",
   "name": "python",
   "nbconvert_exporter": "python",
   "pygments_lexer": "ipython3",
   "version": "3.9.7"
  }
 },
 "nbformat": 4,
 "nbformat_minor": 5
}
