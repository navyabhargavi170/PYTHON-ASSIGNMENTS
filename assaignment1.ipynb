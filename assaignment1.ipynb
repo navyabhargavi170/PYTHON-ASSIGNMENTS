{
 "cells": [
  {
   "cell_type": "markdown",
   "metadata": {},
   "source": [
    "## 1st ASSAINMENT "
   ]
  },
  {
   "cell_type": "markdown",
   "metadata": {},
   "source": [
    "## 1. In the below elements which of them are values or an expression? eg:- values can be integer or string and expressions will be mathematical operators."
   ]
  },
  {
   "cell_type": "markdown",
   "metadata": {},
   "source": [
    "In the given question , the values are        - ' hello ' , -87.8 , 6\n",
    "                       the expressions are   -  * , - , / , +"
   ]
  },
  {
   "cell_type": "markdown",
   "metadata": {},
   "source": [
    "## 2. What is the difference between string and variable?"
   ]
  },
  {
   "cell_type": "markdown",
   "metadata": {},
   "source": [
    "STRING:\n",
    "A string is a datatype ,which is used to assaign a character to within quotations that is \" \" or ' ' . A string may be a ' character ' or ' a character ' or ' an integer ' or ' a special-character ' or any value which is written inside a single or duble quotes is considered as a string. \n",
    "\n",
    "VARIABLE:\n",
    "A variable is used to store a value in it, any datatype value it may a string or a float or an integer or a composite value . we ' = '  operator to assaign a value. "
   ]
  },
  {
   "cell_type": "code",
   "execution_count": null,
   "metadata": {},
   "outputs": [],
   "source": [
    "#example\n",
    "a = \"nravi\"                      # in this 'a'  is a variable it stores the value called \"string\"  nravi\n",
    "print(a)\n"
   ]
  },
  {
   "cell_type": "markdown",
   "metadata": {},
   "source": [
    "## 3. Describe three different data types."
   ]
  },
  {
   "cell_type": "markdown",
   "metadata": {},
   "source": [
    "They are four data types in python mainly we use \n",
    "1. Integer \n",
    "2. Float\n",
    "3. String\n",
    "\n",
    "INTEGER : This is one of the most important datatype in python . It is used to store a integer number . The data type we used for integer is \"INT\" .\n",
    "\n",
    "FLOAT DATATYPE: This is used to store a decimal number , it might be postive or negative . The datatype used is \"FLOAT\" .\n",
    "\n",
    "STRING DATATYPE: This datatype is used to store a character or an alphabet or an integer or any thing inside the quotes is considered as a string value . The datatype we used is \"STR\" . we can write a string within \" \" or ' ' .  they are so many functions are present in string datatype ."
   ]
  },
  {
   "cell_type": "code",
   "execution_count": 6,
   "metadata": {},
   "outputs": [
    {
     "name": "stdout",
     "output_type": "stream",
     "text": [
      "254863 <class 'int'>\n",
      "-58.326 <class 'float'>\n",
      " nravi 2345667  <class 'str'>\n",
      " nravi 25.325 $%^  <class 'str'>\n"
     ]
    }
   ],
   "source": [
    "a = 254863                             # integer value\n",
    "b = -58.326                             # float value\n",
    "c = ' nravi 2345667 '                    # string value within singlr quotes ' '\n",
    "d = \" nravi 25.325 $%^ \"                # string value within doublequotes \" \"\n",
    "print( a , type(a))\n",
    "print( b , type(b))\n",
    "print( c , type(c))\n",
    "print( d , type(d))"
   ]
  },
  {
   "cell_type": "markdown",
   "metadata": {},
   "source": [
    "## 4. What is an expression made up of? What do all expressions do?"
   ]
  },
  {
   "cell_type": "markdown",
   "metadata": {},
   "source": [
    "AN EXPRESSION is a mathematical function, it consists of operators and operands . Some of the expressions will do some kind of functions that i.e., concatination , multiplication of a string value . We can do string operations also.\n",
    "the operators are + , - , * , / , %, ** ."
   ]
  },
  {
   "cell_type": "code",
   "execution_count": 11,
   "metadata": {},
   "outputs": [
    {
     "name": "stdout",
     "output_type": "stream",
     "text": [
      "5\n",
      "-1\n",
      "0.6666666666666666\n",
      "6\n",
      "2\n",
      "8\n",
      " navi ravi \n",
      " navi navi navi\n"
     ]
    }
   ],
   "source": [
    "a = 2\n",
    "b = 3\n",
    "c = ' navi'\n",
    "d = ' ravi '             \n",
    "# in a , b , c , d are operands\n",
    "print( a+b )          # we add two numbers\n",
    "print( a-b )          # we subtract two numbers\n",
    "print( a/b )          # we divide a from b\n",
    "print( a*b )         # we multiply the two numbers\n",
    "print( a%b )        # by using module we get the reminder \n",
    "print( a**b )        # it is the most important operator exponential\n",
    "print( c+d )         # in this expression we add two sring values , we say it as concatnation\n",
    "print( c*b )         # in this we multiply a string value "
   ]
  },
  {
   "cell_type": "markdown",
   "metadata": {},
   "source": [
    "## 5. This assignment statements, like spam = 10. What is the difference between an expression and a statement?"
   ]
  },
  {
   "cell_type": "markdown",
   "metadata": {},
   "source": [
    "An expression consists of operators and operands , the statement may be a an expression assaign to variable or anything , we can say a statement when a variable assaigned with a value with ' = '  sign inbetwwen the variable and value is called a statement ."
   ]
  },
  {
   "cell_type": "code",
   "execution_count": 12,
   "metadata": {},
   "outputs": [
    {
     "name": "stdout",
     "output_type": "stream",
     "text": [
      "9\n"
     ]
    }
   ],
   "source": [
    "a = 4\n",
    "b = 5\n",
    "c = a+b              # statement and (a+b) is a expression\n",
    "print( c )"
   ]
  },
  {
   "cell_type": "markdown",
   "metadata": {},
   "source": [
    "## 6. After running the following code, what does the variable bacon contain?\n",
    "bacon = 22 \n",
    "bacon + 1"
   ]
  },
  {
   "cell_type": "code",
   "execution_count": 14,
   "metadata": {},
   "outputs": [
    {
     "name": "stdout",
     "output_type": "stream",
     "text": [
      "23\n"
     ]
    }
   ],
   "source": [
    "bacon = 22                    # in this we take 22 as a value for bacon\n",
    "bacon = bacon+1              # we add '1' to 22\n",
    "print(bacon)                   # then we get 23 , that is value present in bacon variable"
   ]
  },
  {
   "cell_type": "markdown",
   "metadata": {},
   "source": [
    "## 7. What should the values of the following two terms be?\n",
    "'spam' + 'spamspam'\n",
    "'spam' * 3"
   ]
  },
  {
   "cell_type": "code",
   "execution_count": 15,
   "metadata": {},
   "outputs": [
    {
     "data": {
      "text/plain": [
       "'spamspamspam'"
      ]
     },
     "execution_count": 15,
     "metadata": {},
     "output_type": "execute_result"
    }
   ],
   "source": [
    "'spam' + 'spamspam'          # in this it concats the value "
   ]
  },
  {
   "cell_type": "code",
   "execution_count": 17,
   "metadata": {},
   "outputs": [
    {
     "data": {
      "text/plain": [
       "'spamspamspam'"
      ]
     },
     "execution_count": 17,
     "metadata": {},
     "output_type": "execute_result"
    }
   ],
   "source": [
    "'spam' * 3                   # in this it mulpiy the value 3 times"
   ]
  },
  {
   "cell_type": "markdown",
   "metadata": {},
   "source": [
    "## 8. Why is eggs a valid variable name while 100 is invalid?"
   ]
  },
  {
   "cell_type": "markdown",
   "metadata": {},
   "source": [
    "A Variable name is a place a data is stored . they are some of the rules that to consider a value or anything it as a variable name. \n",
    "1. a variable name must start with a alphabet or and underscore .\n",
    "2. a variable name is case sensitive .\n",
    "3. a variable name doest start with an integer or a alpha_numeric or a special character except under score .\n",
    "\n",
    "That is why ' eggs '  is valid variable number and ' 100 ' is a invalid variable name"
   ]
  },
  {
   "cell_type": "code",
   "execution_count": 24,
   "metadata": {},
   "outputs": [],
   "source": [
    "# examples\n",
    "eggs ='navya'"
   ]
  },
  {
   "cell_type": "code",
   "execution_count": 25,
   "metadata": {},
   "outputs": [
    {
     "ename": "SyntaxError",
     "evalue": "cannot assign to literal (<ipython-input-25-d9e37f38a0f4>, line 1)",
     "output_type": "error",
     "traceback": [
      "\u001b[1;36m  File \u001b[1;32m\"<ipython-input-25-d9e37f38a0f4>\"\u001b[1;36m, line \u001b[1;32m1\u001b[0m\n\u001b[1;33m    100 = 'navya'\u001b[0m\n\u001b[1;37m    ^\u001b[0m\n\u001b[1;31mSyntaxError\u001b[0m\u001b[1;31m:\u001b[0m cannot assign to literal\n"
     ]
    }
   ],
   "source": [
    "100 = 'navya'    # error arise if we assign value to the 100"
   ]
  },
  {
   "cell_type": "markdown",
   "metadata": {},
   "source": [
    "## 9. What three functions can be used to get the integer, floating-point number, or string version of a value? "
   ]
  },
  {
   "cell_type": "markdown",
   "metadata": {},
   "source": [
    "The three functions are int() , float() , str() ."
   ]
  },
  {
   "cell_type": "code",
   "execution_count": 37,
   "metadata": {},
   "outputs": [
    {
     "name": "stdout",
     "output_type": "stream",
     "text": [
      "10 <class 'str'>\n",
      "10 <class 'int'>\n",
      "10.0 <class 'float'>\n"
     ]
    }
   ],
   "source": [
    "a = 10\n",
    "b = str(a)\n",
    "c = int(a)\n",
    "d = float(a)\n",
    "print( b , type(b))\n",
    "print( c , type(c))\n",
    "print( d , type(d))"
   ]
  },
  {
   "cell_type": "markdown",
   "metadata": {},
   "source": [
    "## 10. Why does this expression cause an error? How can you fix it?\n",
    "'I have eaten ' + 99 + ' burritos.'"
   ]
  },
  {
   "cell_type": "code",
   "execution_count": 41,
   "metadata": {},
   "outputs": [
    {
     "ename": "TypeError",
     "evalue": "can only concatenate str (not \"int\") to str",
     "output_type": "error",
     "traceback": [
      "\u001b[1;31m---------------------------------------------------------------------------\u001b[0m",
      "\u001b[1;31mTypeError\u001b[0m                                 Traceback (most recent call last)",
      "\u001b[1;32m<ipython-input-41-1e137522207f>\u001b[0m in \u001b[0;36m<module>\u001b[1;34m\u001b[0m\n\u001b[1;32m----> 1\u001b[1;33m \u001b[1;34m' i have eaten'\u001b[0m\u001b[1;33m+\u001b[0m \u001b[1;36m99\u001b[0m \u001b[1;33m+\u001b[0m \u001b[1;34m'burritos'\u001b[0m           \u001b[1;31m#can only concatenate str (not \"int\") to str\u001b[0m\u001b[1;33m\u001b[0m\u001b[1;33m\u001b[0m\u001b[0m\n\u001b[0m",
      "\u001b[1;31mTypeError\u001b[0m: can only concatenate str (not \"int\") to str"
     ]
    }
   ],
   "source": [
    " ' i have eaten'+ 99 + 'burritos'           #can only concatenate str (not \"int\") to str"
   ]
  },
  {
   "cell_type": "code",
   "execution_count": 45,
   "metadata": {},
   "outputs": [
    {
     "data": {
      "text/plain": [
       "' i have eaten 99 burritos'"
      ]
     },
     "execution_count": 45,
     "metadata": {},
     "output_type": "execute_result"
    }
   ],
   "source": [
    "' i have eaten'+' '+'99'+' '+ 'burritos' # resoving by applying quotes to the integer ,if we do like that ,it will become a string value"
   ]
  }
 ],
 "metadata": {
  "kernelspec": {
   "display_name": "Python 3",
   "language": "python",
   "name": "python3"
  },
  "language_info": {
   "codemirror_mode": {
    "name": "ipython",
    "version": 3
   },
   "file_extension": ".py",
   "mimetype": "text/x-python",
   "name": "python",
   "nbconvert_exporter": "python",
   "pygments_lexer": "ipython3",
   "version": "3.8.5"
  }
 },
 "nbformat": 4,
 "nbformat_minor": 4
}
