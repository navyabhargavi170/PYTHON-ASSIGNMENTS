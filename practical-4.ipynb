{
 "cells": [
  {
   "cell_type": "markdown",
   "id": "ae36e350",
   "metadata": {},
   "source": [
    "## 1. What exactly is []?"
   ]
  },
  {
   "cell_type": "markdown",
   "id": "1d681b49",
   "metadata": {},
   "source": [
    "### The given symbol represent a empty list . List's is one one of the method in data structures , it is widely used data structure in python programming language . By using a list we can ADD, REMOVE ,INSERT and many more things we can do by using list . "
   ]
  },
  {
   "cell_type": "code",
   "execution_count": 1,
   "id": "847f945a",
   "metadata": {},
   "outputs": [],
   "source": [
    "list_1 = []"
   ]
  },
  {
   "cell_type": "code",
   "execution_count": 2,
   "id": "fe8e79ec",
   "metadata": {},
   "outputs": [
    {
     "data": {
      "text/plain": [
       "list"
      ]
     },
     "execution_count": 2,
     "metadata": {},
     "output_type": "execute_result"
    }
   ],
   "source": [
    "type(list_1)"
   ]
  },
  {
   "cell_type": "markdown",
   "id": "46f3d480",
   "metadata": {},
   "source": [
    "## 2.In a list of values stored in a variable called spam, how would you assign the value 'hello' as the third value? (Assume [2, 4, 6, 8, 10] are in spam.)"
   ]
  },
  {
   "cell_type": "code",
   "execution_count": 6,
   "id": "7ad5851a",
   "metadata": {},
   "outputs": [],
   "source": [
    "#here we created a list called spam \n",
    "spam = [\"ravi\",\"navi\",1,3,34.5]\n",
    "\n",
    "#asigning a value in a particular index\n",
    "#for that we have to use insert()\n",
    "spam.insert(2,\"hello\")                         #we have to use index numbers to assaign or to delete a element from list"
   ]
  },
  {
   "cell_type": "code",
   "execution_count": 7,
   "id": "a23619b9",
   "metadata": {},
   "outputs": [
    {
     "name": "stdout",
     "output_type": "stream",
     "text": [
      "['ravi', 'navi', 'hello', 1, 3, 34.5]\n"
     ]
    }
   ],
   "source": [
    "print(spam)"
   ]
  },
  {
   "cell_type": "markdown",
   "id": "52743db4",
   "metadata": {},
   "source": [
    "## Let's pretend the spam includes the list ['a', 'b', 'c', 'd'] for the next three queries.\n"
   ]
  },
  {
   "cell_type": "code",
   "execution_count": 8,
   "id": "85fbea79",
   "metadata": {},
   "outputs": [],
   "source": [
    "spam = ['a','b','c','d']"
   ]
  },
  {
   "cell_type": "markdown",
   "id": "59a1919f",
   "metadata": {},
   "source": [
    "## 3. What is the value of spam[int(int('3' * 2) / 11)]?"
   ]
  },
  {
   "cell_type": "code",
   "execution_count": 10,
   "id": "b1300edd",
   "metadata": {},
   "outputs": [
    {
     "data": {
      "text/plain": [
       "'d'"
      ]
     },
     "execution_count": 10,
     "metadata": {},
     "output_type": "execute_result"
    }
   ],
   "source": [
    "#first we have to see the priority \n",
    "#first we solve the ('3'*2) = '33' it is a string\n",
    "#we convert that into an integer by adding int('3'*2) = 33\n",
    "#we divided that value with 11 , int('3'*2)/11 = 3.0 \n",
    "#we again convert the float to int, int(int('3'*2)/11) = 3\n",
    "#that is used as a index number for list spam, in spam the index value 3 shows 'd'\n",
    "\n",
    "spam[int(int('3' * 2) / 11)]"
   ]
  },
  {
   "cell_type": "markdown",
   "id": "60b5ccde",
   "metadata": {},
   "source": [
    "## 4. What is the value of spam[-1]?"
   ]
  },
  {
   "cell_type": "code",
   "execution_count": 12,
   "id": "28e89195",
   "metadata": {},
   "outputs": [
    {
     "data": {
      "text/plain": [
       "'d'"
      ]
     },
     "execution_count": 12,
     "metadata": {},
     "output_type": "execute_result"
    }
   ],
   "source": [
    "#we have great advantage by using lists , we can use both positive and negative indexing of values in a list\n",
    "spam[-1]"
   ]
  },
  {
   "cell_type": "markdown",
   "id": "0ecb5892",
   "metadata": {},
   "source": [
    "## 5. What is the value of spam[:2]?"
   ]
  },
  {
   "cell_type": "code",
   "execution_count": 14,
   "id": "4b59a64d",
   "metadata": {},
   "outputs": [
    {
     "data": {
      "text/plain": [
       "['a', 'b']"
      ]
     },
     "execution_count": 14,
     "metadata": {},
     "output_type": "execute_result"
    }
   ],
   "source": [
    "#this method of indexing is called as slicing we can access a sequence of values by using slicing\n",
    "#in slicing the end value is negligable.\n",
    "spam[:2]"
   ]
  },
  {
   "cell_type": "markdown",
   "id": "bd1197dc",
   "metadata": {},
   "source": [
    "## Let's pretend bacon has the list [3.14, 'cat,' 11, 'cat,' True] for the next three questions."
   ]
  },
  {
   "cell_type": "code",
   "execution_count": 15,
   "id": "f6f97811",
   "metadata": {},
   "outputs": [],
   "source": [
    "bacon = [3.14,'cat',11,'cat',True]"
   ]
  },
  {
   "cell_type": "markdown",
   "id": "038a54ce",
   "metadata": {},
   "source": [
    "## 6. What is the value of bacon.index('cat')?"
   ]
  },
  {
   "cell_type": "code",
   "execution_count": 17,
   "id": "9bd1f0e9",
   "metadata": {},
   "outputs": [
    {
     "data": {
      "text/plain": [
       "1"
      ]
     },
     "execution_count": 17,
     "metadata": {},
     "output_type": "execute_result"
    }
   ],
   "source": [
    "#here we used index() to get the index value of 'cat', but here we have two occurances of 'cat'then \n",
    "#why it just give only one index?\n",
    "#because index value only see the first occurance of the value in a list\n",
    "bacon.index('cat')"
   ]
  },
  {
   "cell_type": "markdown",
   "id": "e0bd89fe",
   "metadata": {},
   "source": [
    "## 7. How does bacon.append(99) change the look of the list value in bacon?"
   ]
  },
  {
   "cell_type": "code",
   "execution_count": 18,
   "id": "4a04e37a",
   "metadata": {},
   "outputs": [],
   "source": [
    "bacon.append(99)"
   ]
  },
  {
   "cell_type": "code",
   "execution_count": 20,
   "id": "5b293068",
   "metadata": {},
   "outputs": [
    {
     "data": {
      "text/plain": [
       "[3.14, 'cat', 11, 'cat', True, 99]"
      ]
     },
     "execution_count": 20,
     "metadata": {},
     "output_type": "execute_result"
    }
   ],
   "source": [
    "#here we used append() to add a element in alist, appending means add a element in alist,it add element at\n",
    "#the end of the list ,the main drawback of using appending is we cannot specifiy wheret to add a element,and we cannot add \n",
    "#more than one element.\n",
    "bacon"
   ]
  },
  {
   "cell_type": "markdown",
   "id": "1d875f99",
   "metadata": {},
   "source": [
    "## 8. How does bacon.remove('cat') change the look of the list in bacon?"
   ]
  },
  {
   "cell_type": "code",
   "execution_count": 21,
   "id": "e63d8de1",
   "metadata": {},
   "outputs": [],
   "source": [
    "#we used remove() to remove a element from a list\n",
    "bacon.remove('cat')"
   ]
  },
  {
   "cell_type": "code",
   "execution_count": 23,
   "id": "204a3a3a",
   "metadata": {},
   "outputs": [
    {
     "data": {
      "text/plain": [
       "[3.14, 11, 'cat', True, 99]"
      ]
     },
     "execution_count": 23,
     "metadata": {},
     "output_type": "execute_result"
    }
   ],
   "source": [
    "#the below answer showing that in the list still 'cat' is present , it removed only one why?\n",
    "#because as we discussed above in the index() it just show the first occurance of value in the list\n",
    "#in the same manner remove is also working,it just removed the first occurance in the list\n",
    "bacon"
   ]
  },
  {
   "cell_type": "markdown",
   "id": "7445fe31",
   "metadata": {},
   "source": [
    "## 9. What are the list concatenation and list replication operators?"
   ]
  },
  {
   "cell_type": "markdown",
   "id": "a660958c",
   "metadata": {},
   "source": [
    "### List concatenation operator\n",
    "list concatenation means adding two list into one .To concate a list we use \"+\" operator."
   ]
  },
  {
   "cell_type": "code",
   "execution_count": 24,
   "id": "b53ec1eb",
   "metadata": {},
   "outputs": [],
   "source": [
    "#For example\n",
    "#we concider two lists 'a' and 'b'\n",
    "a = [1,2,3,4,5]\n",
    "b = ['navi','ravi','teja']"
   ]
  },
  {
   "cell_type": "code",
   "execution_count": 26,
   "id": "ebde3afe",
   "metadata": {},
   "outputs": [
    {
     "name": "stdout",
     "output_type": "stream",
     "text": [
      "[1, 2, 3, 4, 5, 'navi', 'ravi', 'teja']\n"
     ]
    }
   ],
   "source": [
    "#we take another variable 'c' and assign the value of 'a+b'\n",
    "c = a + b\n",
    "#we print the variable 'c',in that we can see both the list are in one list,by using the addition operator we combine the \n",
    "#two list values into one, it's not for mathematical operation`\n",
    "print(c)\n"
   ]
  },
  {
   "cell_type": "markdown",
   "id": "a78cdc72",
   "metadata": {},
   "source": [
    "### List replication operator\n",
    "List repication means repeating the list a number of times . For that we use ' * ' multiplication operator ."
   ]
  },
  {
   "cell_type": "code",
   "execution_count": 33,
   "id": "7f3b95bb",
   "metadata": {},
   "outputs": [],
   "source": [
    "#For example\n",
    "#we consider a list named ' a '\n",
    "a = [1,2,3,4,5]"
   ]
  },
  {
   "cell_type": "code",
   "execution_count": 34,
   "id": "b0561c33",
   "metadata": {},
   "outputs": [
    {
     "name": "stdout",
     "output_type": "stream",
     "text": [
      "[1, 2, 3, 4, 5, 1, 2, 3, 4, 5, 1, 2, 3, 4, 5]\n"
     ]
    }
   ],
   "source": [
    "#here we multiplied the list with 3, then it displayed three times the values of list  \n",
    "a = a*3\n",
    "print(a)"
   ]
  },
  {
   "cell_type": "markdown",
   "id": "fb69d0c6",
   "metadata": {},
   "source": [
    "## 10. What is difference between the list methods append() and insert()?"
   ]
  },
  {
   "cell_type": "markdown",
   "id": "10214bcb",
   "metadata": {},
   "source": [
    "#### List.append()\n",
    "1.\tAppending is used to add elements in the list.\n",
    "2. \tWe use append() to add only one element in the list.\n",
    "3.   Syntax:\n",
    "              List_name.append(“value”)\n",
    "4. It place appended value at the end of the list.\n",
    "5. It take only one value, if we add a list by using append it shows a nested list.\n",
    "\n",
    "#### List.insert()\n",
    "1.\tInsert is also used to add elements in a \n",
    "    Particular index value.\n",
    "2.  We use insert() to add an element at a particular place in a list.\n",
    "3. Syntax:\n",
    "          List_name.insert(index_no,”value”)\n",
    "4. It places the inserted value at the mentioned index value of the list.\n",
    "5. List_insert() also takes only one value, with index number.\n",
    "\n"
   ]
  },
  {
   "cell_type": "markdown",
   "id": "113d34d4",
   "metadata": {},
   "source": [
    "## 11. What are the two methods for removing items from a list?"
   ]
  },
  {
   "cell_type": "markdown",
   "id": "e2d428bd",
   "metadata": {},
   "source": [
    "They are two methods to remove an element from a list\n",
    "1. remove()\n",
    "2. pop()\n",
    "\n",
    "#### remove()\n",
    "This one of the function used to remove an element , it remove the by the name of the value in the list.\n",
    "###### syntax: list_name.remove(\"value to remove\")\n",
    "\n",
    "#### pop()\n",
    "this is most important function used in list, pop() delete the end element of the list. We can also delete by mentioning the index_number of the value.\n",
    "###### syntax:list_name.pop()     #this delete by default last value\n",
    "######              list_name.pop(\"index_value\")"
   ]
  },
  {
   "cell_type": "markdown",
   "id": "d4c9dbda",
   "metadata": {},
   "source": [
    "## 12. Describe how list values and string values are identical."
   ]
  },
  {
   "cell_type": "markdown",
   "id": "d4b9c732",
   "metadata": {},
   "source": [
    "#### string value \n",
    "These are the values which are enclosed between \" \" or ' ',we can assign only one string value at once to a variable. \n",
    "#### list value\n",
    "These are the values which are enclosed between [  ] . In this square brackets we can give different types of elements in a list at a time . We can add, remove an element anywhere from list.  "
   ]
  },
  {
   "cell_type": "markdown",
   "id": "99af532f",
   "metadata": {},
   "source": [
    "## 13. What's the difference between tuples and lists?"
   ]
  },
  {
   "cell_type": "markdown",
   "id": "4f44cf27",
   "metadata": {},
   "source": [
    "## List \n",
    "1. List’s are of the main data structure. It is mutable, sequencing,etc.\n",
    "2. They are so many functions to modify a list.\n",
    "3. The values of list are enclosed between [ ].\n",
    "4. We can wish to add an element in the list after we create.\n",
    "5. An empty list is defined by \n",
    "         A = [ ] or list[]\n",
    "         \n",
    "## Tuple \n",
    "1. Tuple are also one of the data structure. Tuples are sequencing, not mutable. \n",
    "2. We have only a few functions to modify a tuple.\n",
    "3. The values of tuple are enclosed between ().\n",
    "4. We cannot add an element in the tuple once it is created.\n",
    "5. An empty tuple is defined as\n",
    "              A = tuple()\n",
    "\n"
   ]
  },
  {
   "cell_type": "markdown",
   "id": "47bb90cf",
   "metadata": {},
   "source": [
    "## 14. How do you type a tuple value that only contains the integer 42?"
   ]
  },
  {
   "cell_type": "markdown",
   "id": "0915ddec",
   "metadata": {},
   "source": [
    "In a tuple we cannot access a single element. To access a single element in a tuple after giving a value give comma' , ' , so it can take the single value."
   ]
  },
  {
   "cell_type": "code",
   "execution_count": 56,
   "id": "3f96f304",
   "metadata": {},
   "outputs": [],
   "source": [
    "a = (42,)"
   ]
  },
  {
   "cell_type": "code",
   "execution_count": 57,
   "id": "7fe45d55",
   "metadata": {},
   "outputs": [
    {
     "data": {
      "text/plain": [
       "tuple"
      ]
     },
     "execution_count": 57,
     "metadata": {},
     "output_type": "execute_result"
    }
   ],
   "source": [
    "type(a)"
   ]
  },
  {
   "cell_type": "markdown",
   "id": "0bbb3dd6",
   "metadata": {},
   "source": [
    "## 15. How do you get a list value's tuple form? How do you get a tuple value's list form?"
   ]
  },
  {
   "cell_type": "code",
   "execution_count": 67,
   "id": "12f53ae0",
   "metadata": {},
   "outputs": [
    {
     "name": "stdout",
     "output_type": "stream",
     "text": [
      "(1, 2, 3, 4) <class 'tuple'>\n"
     ]
    }
   ],
   "source": [
    "#list values tuple form\n",
    "a = [1,2,3,4]\n",
    "b = tuple(a)\n",
    "print(b,type(b))"
   ]
  },
  {
   "cell_type": "code",
   "execution_count": 68,
   "id": "89395768",
   "metadata": {},
   "outputs": [
    {
     "name": "stdout",
     "output_type": "stream",
     "text": [
      "[(1, 2, 3, 4)] <class 'list'>\n"
     ]
    }
   ],
   "source": [
    "#tuple values in list form\n",
    "a = (1,2,3,4)\n",
    "b = [a]\n",
    "print(b,type(b))"
   ]
  },
  {
   "cell_type": "markdown",
   "id": "a751b08c",
   "metadata": {},
   "source": [
    "## 16. Variables that \"contain\" list values are not necessarily lists themselves. Instead, what do they contain?"
   ]
  },
  {
   "cell_type": "markdown",
   "id": "a2a7380b",
   "metadata": {},
   "source": [
    "#### In a list we can give different types of values like string,integer,float etc., they are within a list with index values.  "
   ]
  },
  {
   "cell_type": "markdown",
   "id": "f45e283e",
   "metadata": {},
   "source": [
    "## 17. How do you distinguish between copy.copy() and copy.deepcopy()?"
   ]
  },
  {
   "cell_type": "markdown",
   "id": "2dcc6493",
   "metadata": {},
   "source": [
    "### copy.copy()\n",
    "##### if we declare a list, we want to that list to another variable,in that we chage that values in the present list ,then we use copy.copy() the values we changed are also changed in the present list and the copied list also.\n",
    "\n",
    "### copy.deepcopy()\n",
    "##### The main difference between the copy.copy() and copy.deepccopy() is , in copy.copy() the values will changed but in copy.deepcopy() the values will change in existed list but in copied list."
   ]
  },
  {
   "cell_type": "code",
   "execution_count": null,
   "id": "7272642f",
   "metadata": {},
   "outputs": [],
   "source": []
  }
 ],
 "metadata": {
  "kernelspec": {
   "display_name": "Python 3",
   "language": "python",
   "name": "python3"
  },
  "language_info": {
   "codemirror_mode": {
    "name": "ipython",
    "version": 3
   },
   "file_extension": ".py",
   "mimetype": "text/x-python",
   "name": "python",
   "nbconvert_exporter": "python",
   "pygments_lexer": "ipython3",
   "version": "3.8.8"
  }
 },
 "nbformat": 4,
 "nbformat_minor": 5
}
