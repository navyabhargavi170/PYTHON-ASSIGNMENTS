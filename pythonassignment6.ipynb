{
 "cells": [
  {
   "cell_type": "markdown",
   "metadata": {},
   "source": [
    "## 1.What are the two values of the Boolean data type? How do you write them?"
   ]
  },
  {
   "cell_type": "markdown",
   "metadata": {},
   "source": [
    "Boolean data type is used to state the give statement is True or False. The function we use for boolean data type is \"bool()\" . There are two values in boolean data type \n",
    "1. TRUE\n",
    "2. FALSE\n",
    "\n",
    "The value for True = 1 and False = 0"
   ]
  },
  {
   "cell_type": "code",
   "execution_count": 1,
   "metadata": {},
   "outputs": [
    {
     "data": {
      "text/plain": [
       "False"
      ]
     },
     "execution_count": 1,
     "metadata": {},
     "output_type": "execute_result"
    }
   ],
   "source": [
    "bool()"
   ]
  },
  {
   "cell_type": "code",
   "execution_count": 2,
   "metadata": {},
   "outputs": [
    {
     "data": {
      "text/plain": [
       "True"
      ]
     },
     "execution_count": 2,
     "metadata": {},
     "output_type": "execute_result"
    }
   ],
   "source": [
    "bool(True)"
   ]
  },
  {
   "cell_type": "code",
   "execution_count": 4,
   "metadata": {},
   "outputs": [
    {
     "data": {
      "text/plain": [
       "False"
      ]
     },
     "execution_count": 4,
     "metadata": {},
     "output_type": "execute_result"
    }
   ],
   "source": [
    "bool(False)"
   ]
  },
  {
   "cell_type": "markdown",
   "metadata": {},
   "source": [
    "## 2. What are the three different types of Boolean operators?"
   ]
  },
  {
   "cell_type": "markdown",
   "metadata": {},
   "source": [
    "There are three different boolean operators\n",
    "1. AND\n",
    "2. OR\n",
    "3. NOT"
   ]
  },
  {
   "cell_type": "markdown",
   "metadata": {},
   "source": [
    "#### AND \n",
    "This is one of the type in boolean operator .In this it gives true only when both the assiged statements are true."
   ]
  },
  {
   "cell_type": "code",
   "execution_count": 17,
   "metadata": {},
   "outputs": [
    {
     "name": "stdout",
     "output_type": "stream",
     "text": [
      "it is false\n"
     ]
    }
   ],
   "source": [
    "## example\n",
    "a = 10\n",
    "b = 5\n",
    "if (a>b) and (b==5):                                       #here both the given statements are true \n",
    "    if (a==10) and (b==10):                               #here one is true and one is false\n",
    "        print(\"it is true\")\n",
    "    else:\n",
    "        print(\"it is false\")\n",
    "else:\n",
    "    print(\"done\")"
   ]
  },
  {
   "cell_type": "markdown",
   "metadata": {},
   "source": [
    "#### OR\n",
    "This is another type of boolean operator . In this it states true if any one statement is true. let us take the above program"
   ]
  },
  {
   "cell_type": "code",
   "execution_count": 20,
   "metadata": {},
   "outputs": [
    {
     "name": "stdout",
     "output_type": "stream",
     "text": [
      "it is false\n"
     ]
    }
   ],
   "source": [
    "## example\n",
    "a = 10\n",
    "b = 5\n",
    "if (a>b) or (b==10):                                       #here one statement is write and other is not still it give true value\n",
    "    if (a==1) or (b==10):                               #here both are false\n",
    "        print(\"it is true\")\n",
    "    else:\n",
    "        print(\"it is false\")\n",
    "else:\n",
    "    print(\"done\")"
   ]
  },
  {
   "cell_type": "markdown",
   "metadata": {},
   "source": [
    "#### NOT\n",
    "This is last type of boolean operator . in reverse the original result . let us take the example"
   ]
  },
  {
   "cell_type": "code",
   "execution_count": 22,
   "metadata": {},
   "outputs": [
    {
     "name": "stdout",
     "output_type": "stream",
     "text": [
      "done\n"
     ]
    }
   ],
   "source": [
    "## example\n",
    "a = 10\n",
    "b = 5\n",
    "if not((a>b) and (b==5)):                                       #here both the given statements are true but it state the statement false\n",
    "    if (a==10) and (b==10):                               #here one is true and one is false\n",
    "        print(\"it is true\")\n",
    "    else:\n",
    "        print(\"it is false\")\n",
    "else:\n",
    "    print(\"done\")"
   ]
  },
  {
   "cell_type": "markdown",
   "metadata": {},
   "source": [
    "## 3. Make a list of each Boolean operator's truth tables (i.e. every possible combination of Boolean values for the operator and what it evaluate )."
   ]
  },
  {
   "cell_type": "markdown",
   "metadata": {},
   "source": [
    "# AND Truth Table"
   ]
  },
  {
   "cell_type": "code",
   "execution_count": 23,
   "metadata": {},
   "outputs": [
    {
     "name": "stdout",
     "output_type": "stream",
     "text": [
      "True and True =  True\n",
      "True and False =  False\n",
      "False and True =  False\n",
      "False and False =  False\n"
     ]
    }
   ],
   "source": [
    "print( \"True and True = \",True and True)\n",
    "print( \"True and False = \",True and False)\n",
    "print( \"False and True = \",False and True)\n",
    "print( \"False and False = \",False and False)"
   ]
  },
  {
   "cell_type": "markdown",
   "metadata": {},
   "source": [
    "# OR Truth Table"
   ]
  },
  {
   "cell_type": "code",
   "execution_count": 25,
   "metadata": {},
   "outputs": [
    {
     "name": "stdout",
     "output_type": "stream",
     "text": [
      "True or True =  True\n",
      "True or False =  True\n",
      "False or True =  True\n",
      "False or False =  False\n"
     ]
    }
   ],
   "source": [
    "print( \"True or True = \",True or True)\n",
    "print( \"True or False = \",True or False)\n",
    "print( \"False or True = \",False or True)\n",
    "print( \"False or False = \",False or False)"
   ]
  },
  {
   "cell_type": "markdown",
   "metadata": {},
   "source": [
    "# NOT Truth Table"
   ]
  },
  {
   "cell_type": "code",
   "execution_count": 30,
   "metadata": {},
   "outputs": [
    {
     "name": "stdout",
     "output_type": "stream",
     "text": [
      "not(True and True) =  False\n",
      "not(True and False) =  True\n",
      "not(False and True) =  True\n",
      "not(False and False) =  True\n",
      " \n",
      "not(True or True) =  False\n",
      "not(True or False) =  False\n",
      "not(False or True) =  False\n",
      "not(False or False) =  True\n"
     ]
    }
   ],
   "source": [
    "## for AND table we apply NOT\n",
    "print( \"not(True and True) = \",not(True and True))\n",
    "print( \"not(True and False) = \",not(True and False))\n",
    "print( \"not(False and True) = \",not(False and True))\n",
    "print( \"not(False and False) = \",not(False and False), end = \"\\n\")\n",
    "print(\" \")\n",
    "\n",
    "## for OR table we apply NOT\n",
    "print( \"not(True or True) = \",not(True or True))\n",
    "print( \"not(True or False) = \",not(True or False))\n",
    "print( \"not(False or True) = \",not(False or True))\n",
    "print( \"not(False or False) = \",not(False or False))\n"
   ]
  },
  {
   "cell_type": "markdown",
   "metadata": {},
   "source": [
    "## 4. What are the values of the following expressions?"
   ]
  },
  {
   "cell_type": "code",
   "execution_count": 33,
   "metadata": {},
   "outputs": [
    {
     "name": "stdout",
     "output_type": "stream",
     "text": [
      " (5 > 4) and (3 == 5) =  False\n",
      " \n",
      " not( 5 > 4) =  False\n",
      " \n",
      " (5>4) or (3 == 5) =  True\n",
      " \n",
      " not ((5>4) or (3==5)) =  False\n",
      " \n",
      " (True and True) and (True == False) =  False\n",
      " \n",
      " (not False) or (not True) =  True\n"
     ]
    }
   ],
   "source": [
    "print(\" (5 > 4) and (3 == 5) = \", (5 > 4) and (3 == 5))\n",
    "print( \" \" )\n",
    "print(\" not( 5 > 4) = \" , not (5 > 4))\n",
    "print(\" \")\n",
    "print(\" (5>4) or (3 == 5) = \" , (5 > 4) or (3 == 5))\n",
    "print(\" \")\n",
    "print(\" not ((5>4) or (3==5)) = \" ,not ((5 > 4) or (3 == 5)))\n",
    "print(\" \")\n",
    "print(\" (True and True) and (True == False) = \" , (True and True) and (True == False))\n",
    "print(\" \")\n",
    "print(\" (not False) or (not True) = \" , (not False) or (not True))"
   ]
  },
  {
   "cell_type": "markdown",
   "metadata": {},
   "source": [
    "## 5. What are the six comparison operators?"
   ]
  },
  {
   "cell_type": "markdown",
   "metadata": {},
   "source": [
    "The comparison operators are used to define relationship between two or more variables and numbers . These operators will return a boolean value not an integer or float or string type values . They are 6 comparision operators , they are \n",
    "1. Greater than \" > \"\n",
    "2. Lesser than \" < \"\n",
    "3. Greater than or Equal to \" >= \"\n",
    "4. Lesser than or Equal to \" <= \"\n",
    "5. Equal to \" == \"\n",
    "6. Not Equal to \" != \""
   ]
  },
  {
   "cell_type": "code",
   "execution_count": 35,
   "metadata": {},
   "outputs": [
    {
     "name": "stdout",
     "output_type": "stream",
     "text": [
      "True\n",
      " False\n",
      " False\n",
      " True\n",
      " True\n",
      " True\n"
     ]
    }
   ],
   "source": [
    "#examples\n",
    "print( 5 > 4 )\n",
    "print(end = \" \")\n",
    "print( 3 < 2 )\n",
    "print(end = \" \")\n",
    "print( 5 >= 6 )\n",
    "print(end = \" \")\n",
    "print( 2 <= 2 )\n",
    "print(end = \" \")\n",
    "print( 5 == 5 )\n",
    "print(end = \" \")\n",
    "print( 5 != 6 )"
   ]
  },
  {
   "cell_type": "markdown",
   "metadata": {},
   "source": [
    "## 6. How do you tell the difference between the equal to and assignment operators?Describe a condition and when you would use one."
   ]
  },
  {
   "cell_type": "markdown",
   "metadata": {},
   "source": [
    "There is alot of difference between the \"equal to operator \" and \" assaignment operator \" . The \"equal to \" is a comparion operator it states the relation between two numbers to use a equal to we use \" == \" double equal sign to make it work with the program and this will return the boolean value . On the otherhand the assignment operator is used to assign a value to the variable , for that we use \" = \" only single equal to sign to assign a value to the variable .  "
   ]
  },
  {
   "cell_type": "code",
   "execution_count": 37,
   "metadata": {},
   "outputs": [
    {
     "name": "stdout",
     "output_type": "stream",
     "text": [
      "6\n"
     ]
    },
    {
     "data": {
      "text/plain": [
       "True"
      ]
     },
     "execution_count": 37,
     "metadata": {},
     "output_type": "execute_result"
    }
   ],
   "source": [
    "#example \n",
    "a = 6               #assignment operator\n",
    "print ( a )\n",
    "\n",
    "5 == 5              #equal to \n"
   ]
  },
  {
   "cell_type": "markdown",
   "metadata": {},
   "source": [
    "## 7. Identify the three blocks in this code:\n",
    "spam = 0\n",
    "if spam == 10:\n",
    "print('eggs')\n",
    "if spam > 5:\n",
    "print('bacon')\n",
    "else:\n",
    "print('ham')\n",
    "print('spam')\n",
    "print('spam')"
   ]
  },
  {
   "cell_type": "code",
   "execution_count": 1,
   "metadata": {},
   "outputs": [
    {
     "name": "stdout",
     "output_type": "stream",
     "text": [
      "spam\n",
      "spam\n"
     ]
    }
   ],
   "source": [
    "spam = 0\n",
    "if spam == 10:\n",
    "    print('eggs')\n",
    "    if spam > 5:\n",
    "        print('bacon')\n",
    "    else:\n",
    "        print('ham')\n",
    "print('spam')\n",
    "print('spam')"
   ]
  },
  {
   "cell_type": "markdown",
   "metadata": {},
   "source": [
    "## 8. Write code that prints Hello if 1 is stored in spam, prints Howdy if 2 is stored in spam, and prints Greetings! if anything else is stored in spam."
   ]
  },
  {
   "cell_type": "code",
   "execution_count": 4,
   "metadata": {},
   "outputs": [
    {
     "name": "stdout",
     "output_type": "stream",
     "text": [
      "enter number = 45\n",
      " Greetings! \n"
     ]
    }
   ],
   "source": [
    "spam = int(input(\"enter number = \"))\n",
    "\n",
    "if (spam == 1) :\n",
    "    print(\" Hello \")\n",
    "elif (spam == 2) :\n",
    "    print(\" Howdy \")\n",
    "else:\n",
    "    print(\" Greetings! \")"
   ]
  },
  {
   "cell_type": "markdown",
   "metadata": {},
   "source": [
    "## 9.If your programme is stuck in an endless loop, what keys you’ll press?\n",
    "\n",
    "The keys to end with a endless loop is escape key ."
   ]
  },
  {
   "cell_type": "markdown",
   "metadata": {},
   "source": [
    "## 10. How can you tell the difference between break and continue?"
   ]
  },
  {
   "cell_type": "markdown",
   "metadata": {},
   "source": [
    "BREAK and CONTINUE are used in the iteration process . These two are used to end the loop with some value . "
   ]
  },
  {
   "cell_type": "markdown",
   "metadata": {},
   "source": [
    "## break\n",
    "This is used to in both forloop and whileloop . If we use break statement in a loop it will terminate the loop at the given condition ."
   ]
  },
  {
   "cell_type": "code",
   "execution_count": 6,
   "metadata": {},
   "outputs": [
    {
     "name": "stdout",
     "output_type": "stream",
     "text": [
      "0\n",
      "1\n",
      "2\n",
      "3\n",
      "4\n"
     ]
    }
   ],
   "source": [
    "## example\n",
    "\n",
    "n = 0\n",
    "while n<=10:\n",
    "    print(n)\n",
    "    n = n+1\n",
    "    if n == 5:\n",
    "        break"
   ]
  },
  {
   "cell_type": "markdown",
   "metadata": {},
   "source": [
    "## continue\n",
    "This is also used in both forloop and whileloop . If we use continue statement in a looping structure it will jump the condition and print rest of the statements ."
   ]
  },
  {
   "cell_type": "code",
   "execution_count": 14,
   "metadata": {},
   "outputs": [
    {
     "name": "stdout",
     "output_type": "stream",
     "text": [
      "0\n",
      "1\n",
      "2\n",
      "3\n",
      "4\n",
      "6\n",
      "7\n",
      "8\n",
      "9\n",
      "10\n"
     ]
    }
   ],
   "source": [
    "## example\n",
    "\n",
    "n = 10\n",
    "for i in range(0,n+1):\n",
    "    if i == 5:\n",
    "        continue\n",
    "    print(i)"
   ]
  },
  {
   "cell_type": "markdown",
   "metadata": {},
   "source": [
    "## 11. In a for loop, what is the difference between range(10), range(0, 10), and range(0, 10, 1)\n",
    "\n",
    "All give the same value , but the difference is just the way of assigning "
   ]
  },
  {
   "cell_type": "code",
   "execution_count": 15,
   "metadata": {},
   "outputs": [
    {
     "data": {
      "text/plain": [
       "range(0, 10)"
      ]
     },
     "execution_count": 15,
     "metadata": {},
     "output_type": "execute_result"
    }
   ],
   "source": [
    "range(10)"
   ]
  },
  {
   "cell_type": "code",
   "execution_count": 16,
   "metadata": {},
   "outputs": [
    {
     "data": {
      "text/plain": [
       "range(0, 10)"
      ]
     },
     "execution_count": 16,
     "metadata": {},
     "output_type": "execute_result"
    }
   ],
   "source": [
    "range(0,10)"
   ]
  },
  {
   "cell_type": "code",
   "execution_count": 17,
   "metadata": {},
   "outputs": [
    {
     "data": {
      "text/plain": [
       "range(0, 10)"
      ]
     },
     "execution_count": 17,
     "metadata": {},
     "output_type": "execute_result"
    }
   ],
   "source": [
    "range(0,10,1)"
   ]
  },
  {
   "cell_type": "markdown",
   "metadata": {},
   "source": [
    "## 12. Write a short program that prints the numbers 1 to 10 using a for loop. Then write an equivalent program that prints the numbers 1 to 10 using a while loop."
   ]
  },
  {
   "cell_type": "code",
   "execution_count": 19,
   "metadata": {},
   "outputs": [
    {
     "name": "stdout",
     "output_type": "stream",
     "text": [
      "1\n",
      "2\n",
      "3\n",
      "4\n",
      "5\n",
      "6\n",
      "7\n",
      "8\n",
      "9\n",
      "10\n"
     ]
    }
   ],
   "source": [
    "#by using for loop\n",
    "n = 10\n",
    "for i in range(1,n+1):\n",
    "        print(i)"
   ]
  },
  {
   "cell_type": "code",
   "execution_count": 22,
   "metadata": {},
   "outputs": [
    {
     "name": "stdout",
     "output_type": "stream",
     "text": [
      "1\n",
      "2\n",
      "3\n",
      "4\n",
      "5\n",
      "6\n",
      "7\n",
      "8\n",
      "9\n",
      "10\n"
     ]
    }
   ],
   "source": [
    "#by using whiile loop\n",
    "n = 1\n",
    "while n<=10:\n",
    "    print(n)\n",
    "    n = n+1\n",
    "    if n>10:\n",
    "        break"
   ]
  },
  {
   "cell_type": "markdown",
   "metadata": {},
   "source": [
    "## 13. If you had a function named bacon() inside a module named spam, how would you call it after importing spam?\n",
    "\n",
    "After importing the module , we call it by the file name and the function name given in the module ."
   ]
  },
  {
   "cell_type": "code",
   "execution_count": 25,
   "metadata": {},
   "outputs": [],
   "source": [
    "import spam"
   ]
  },
  {
   "cell_type": "code",
   "execution_count": 26,
   "metadata": {},
   "outputs": [
    {
     "name": "stdout",
     "output_type": "stream",
     "text": [
      " Hello! World \n"
     ]
    }
   ],
   "source": [
    "spam.bacon()"
   ]
  },
  {
   "cell_type": "code",
   "execution_count": null,
   "metadata": {},
   "outputs": [],
   "source": []
  }
 ],
 "metadata": {
  "kernelspec": {
   "display_name": "Python 3",
   "language": "python",
   "name": "python3"
  },
  "language_info": {
   "codemirror_mode": {
    "name": "ipython",
    "version": 3
   },
   "file_extension": ".py",
   "mimetype": "text/x-python",
   "name": "python",
   "nbconvert_exporter": "python",
   "pygments_lexer": "ipython3",
   "version": "3.8.5"
  }
 },
 "nbformat": 4,
 "nbformat_minor": 4
}
