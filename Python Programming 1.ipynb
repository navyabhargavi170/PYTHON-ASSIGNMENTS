{
 "cells": [
  {
   "cell_type": "markdown",
   "id": "ca4720ad",
   "metadata": {},
   "source": [
    "### 1.\tWrite a Python program to print \"Hello Python\"?"
   ]
  },
  {
   "cell_type": "code",
   "execution_count": 2,
   "id": "be63088c",
   "metadata": {},
   "outputs": [
    {
     "name": "stdout",
     "output_type": "stream",
     "text": [
      "Hello Python\n"
     ]
    }
   ],
   "source": [
    "def hello():\n",
    "    print(\"Hello Python\")\n",
    "    \n",
    "hello()"
   ]
  },
  {
   "cell_type": "markdown",
   "id": "ce1a2acd",
   "metadata": {},
   "source": [
    "###  2.\tWrite a Python program to do arithmetical operations addition and division.?"
   ]
  },
  {
   "cell_type": "code",
   "execution_count": 4,
   "id": "a1557a41",
   "metadata": {},
   "outputs": [
    {
     "name": "stdout",
     "output_type": "stream",
     "text": [
      "Enter value for a :34\n",
      "Enter value for b :56\n",
      "The Addition of a and b is 90\n",
      "The Division of a and b is 0.6071428571428571\n"
     ]
    }
   ],
   "source": [
    "def arith_oper():\n",
    "    a = int(input(\"Enter value for a :\"))\n",
    "    b = int(input(\"Enter value for b :\"))\n",
    "    print(f\"The Addition of a and b is {a+b}\")\n",
    "    print(f\"The Division of a and b is {a/b}\")\n",
    "    \n",
    "arith_oper()   "
   ]
  },
  {
   "cell_type": "markdown",
   "id": "9bd7575e",
   "metadata": {},
   "source": [
    "### 3.\tWrite a Python program to find the area of a triangle?"
   ]
  },
  {
   "cell_type": "code",
   "execution_count": 16,
   "id": "9a8f4246",
   "metadata": {},
   "outputs": [
    {
     "name": "stdout",
     "output_type": "stream",
     "text": [
      "Area of a triangle is 8.400\n"
     ]
    }
   ],
   "source": [
    "def area_of_triangle(b,h):\n",
    "    return ((1/2)*b*h)\n",
    "\n",
    "x = area_of_triangle(5.6,3)\n",
    "print(\"Area of a triangle is {:.3f}\".format(x))"
   ]
  },
  {
   "cell_type": "markdown",
   "id": "e7d53baa",
   "metadata": {},
   "source": [
    "### 4.\tWrite a Python program to swap two variables?"
   ]
  },
  {
   "cell_type": "code",
   "execution_count": 19,
   "id": "5ace82b4",
   "metadata": {},
   "outputs": [
    {
     "name": "stdout",
     "output_type": "stream",
     "text": [
      "Before swap 2 3\n",
      "After swap 3 2\n"
     ]
    }
   ],
   "source": [
    "def swap_two(a,b):\n",
    "    print(\"Before swap\",a,b)\n",
    "    a,b = b,a\n",
    "    print('After swap',a,b)\n",
    "\n",
    "swap_two(2,3)\n",
    "    "
   ]
  },
  {
   "cell_type": "markdown",
   "id": "06d808d3",
   "metadata": {},
   "source": [
    "### 5.\tWrite a Python program to generate a random number?"
   ]
  },
  {
   "cell_type": "code",
   "execution_count": 27,
   "id": "6147a172",
   "metadata": {},
   "outputs": [],
   "source": [
    "from random import randint\n",
    "def rand():\n",
    "    return randint(1,10)      #randint() will include bothe start and end point"
   ]
  },
  {
   "cell_type": "code",
   "execution_count": 41,
   "id": "aa0d4abe",
   "metadata": {},
   "outputs": [
    {
     "data": {
      "text/plain": [
       "4"
      ]
     },
     "execution_count": 41,
     "metadata": {},
     "output_type": "execute_result"
    }
   ],
   "source": [
    "rand()"
   ]
  }
 ],
 "metadata": {
  "kernelspec": {
   "display_name": "Python 3 (ipykernel)",
   "language": "python",
   "name": "python3"
  },
  "language_info": {
   "codemirror_mode": {
    "name": "ipython",
    "version": 3
   },
   "file_extension": ".py",
   "mimetype": "text/x-python",
   "name": "python",
   "nbconvert_exporter": "python",
   "pygments_lexer": "ipython3",
   "version": "3.9.13"
  }
 },
 "nbformat": 4,
 "nbformat_minor": 5
}
