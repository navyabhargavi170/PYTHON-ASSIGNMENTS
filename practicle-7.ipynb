{
 "cells": [
  {
   "cell_type": "markdown",
   "id": "f64abb00",
   "metadata": {},
   "source": [
    "## 1. What are escape characters, and how do you use them?"
   ]
  },
  {
   "cell_type": "markdown",
   "id": "a723e4b0",
   "metadata": {},
   "source": [
    "Escape  characters are the special characters,used to represent the white space . These are represented as backslash followed with a character like \"\\t\" or \"\\n\" or\"\\r\" etc thecharacters which are givn along with the backslash has a special meaning and work ."
   ]
  },
  {
   "cell_type": "markdown",
   "id": "d8dff230",
   "metadata": {},
   "source": [
    "## 2. What do the escape characters n and t stand for?"
   ]
  },
  {
   "cell_type": "markdown",
   "id": "065a8560",
   "metadata": {},
   "source": [
    "The escape characters \"\\n\" stands for \"new line\" that means if we add \\n in our program sentence it will forward it to next line. \"\\t\" stands for \"tab\" if write this in our program it leave 4spaces after the value.Lets us see the example for both,"
   ]
  },
  {
   "cell_type": "code",
   "execution_count": 10,
   "id": "1f253457",
   "metadata": {},
   "outputs": [
    {
     "name": "stdout",
     "output_type": "stream",
     "text": [
      "navya is a very good girl\n",
      "iam a quick learner\n",
      "ravi is a good\tboy\n"
     ]
    }
   ],
   "source": [
    "a = \"navya is a very good girl\\niam a quick learner\"\n",
    "b = \"ravi is a good\\tboy\"\n",
    "print(a)\n",
    "print(b)"
   ]
  },
  {
   "cell_type": "markdown",
   "id": "43fb2228",
   "metadata": {},
   "source": [
    "## 3. What is the way to include backslash characters in a string?"
   ]
  },
  {
   "cell_type": "markdown",
   "id": "d43cc937",
   "metadata": {},
   "source": [
    "The  best way to include a escape character in a string is , actually we write a string within single or double quotes in the way while writing a stirng value include the backslash where you want to do that operation and print it. One important thing is dont print directly with the name always print by using print()."
   ]
  },
  {
   "cell_type": "code",
   "execution_count": 17,
   "id": "10f8b899",
   "metadata": {},
   "outputs": [],
   "source": [
    "a = \"twincle twincle little star\\n\\thow i wonder what are you are\\nup above the world so high\\n\\tlike a diamond in the sky:-)\""
   ]
  },
  {
   "cell_type": "code",
   "execution_count": 18,
   "id": "daada822",
   "metadata": {},
   "outputs": [
    {
     "data": {
      "text/plain": [
       "'twincle twincle little star\\n\\thow i wonder what are you are\\nup above the world so high\\n\\tlike a diamond in the sky:-)'"
      ]
     },
     "execution_count": 18,
     "metadata": {},
     "output_type": "execute_result"
    }
   ],
   "source": [
    "a"
   ]
  },
  {
   "cell_type": "code",
   "execution_count": 19,
   "id": "769d2066",
   "metadata": {},
   "outputs": [
    {
     "name": "stdout",
     "output_type": "stream",
     "text": [
      "twincle twincle little star\n",
      "\thow i wonder what are you are\n",
      "up above the world so high\n",
      "\tlike a diamond in the sky:-)\n"
     ]
    }
   ],
   "source": [
    "print(a)"
   ]
  },
  {
   "cell_type": "markdown",
   "id": "6aa753f5",
   "metadata": {},
   "source": [
    "## 4. The string \"Howl's Moving Castle\" is a correct value. Why isn't the single quote character in the word Howl's not escaped a problem?"
   ]
  },
  {
   "cell_type": "code",
   "execution_count": 20,
   "id": "e221aff8",
   "metadata": {},
   "outputs": [],
   "source": [
    "a = \"Howl's Moving Castle\""
   ]
  },
  {
   "cell_type": "code",
   "execution_count": 21,
   "id": "554c2a98",
   "metadata": {},
   "outputs": [
    {
     "data": {
      "text/plain": [
       "\"Howl's Moving Castle\""
      ]
     },
     "execution_count": 21,
     "metadata": {},
     "output_type": "execute_result"
    }
   ],
   "source": [
    "a"
   ]
  },
  {
   "cell_type": "markdown",
   "id": "10ad2884",
   "metadata": {},
   "source": [
    "It is a correct value because in string we have to use either double quotes or single quotes ,but in the given statement it has a double quotes within that a single quote is also present that means when we want to print quotes inside a string we have to use opposite quotes or viceversa like the above statement if we a string enclosed in double quotes then we use single quotes inside the string or if we single quotes then we use double quotes inside it .  "
   ]
  },
  {
   "cell_type": "code",
   "execution_count": 22,
   "id": "17760887",
   "metadata": {},
   "outputs": [
    {
     "ename": "SyntaxError",
     "evalue": "invalid syntax (<ipython-input-22-a7cf5eb092bb>, line 4)",
     "output_type": "error",
     "traceback": [
      "\u001b[1;36m  File \u001b[1;32m\"<ipython-input-22-a7cf5eb092bb>\"\u001b[1;36m, line \u001b[1;32m4\u001b[0m\n\u001b[1;33m    c = \"This is Navi\"s book\"\u001b[0m\n\u001b[1;37m                      ^\u001b[0m\n\u001b[1;31mSyntaxError\u001b[0m\u001b[1;31m:\u001b[0m invalid syntax\n"
     ]
    }
   ],
   "source": [
    "#example\n",
    "a = \"This is Ravi's pen\"\n",
    "b = 'This is Ravi\"s book'\n",
    "c = \"This is Navi\"s book\"\n",
    "d = 'This is Navi's pen'"
   ]
  },
  {
   "cell_type": "code",
   "execution_count": 23,
   "id": "1d51d3fa",
   "metadata": {},
   "outputs": [
    {
     "data": {
      "text/plain": [
       "\"Howl's Moving Castle\""
      ]
     },
     "execution_count": 23,
     "metadata": {},
     "output_type": "execute_result"
    }
   ],
   "source": [
    "a"
   ]
  },
  {
   "cell_type": "code",
   "execution_count": 24,
   "id": "a1390e74",
   "metadata": {},
   "outputs": [
    {
     "data": {
      "text/plain": [
       "'ravi is a good\\tboy'"
      ]
     },
     "execution_count": 24,
     "metadata": {},
     "output_type": "execute_result"
    }
   ],
   "source": [
    "b"
   ]
  },
  {
   "cell_type": "markdown",
   "id": "7be1a679",
   "metadata": {},
   "source": [
    "## 5. How do you write a string of newlines if you don't want to use the n character?"
   ]
  },
  {
   "cell_type": "markdown",
   "id": "ba5c2406",
   "metadata": {},
   "source": [
    "There are many ways to print a srting in newlines without using 'n' charcter ."
   ]
  },
  {
   "cell_type": "code",
   "execution_count": 44,
   "id": "418aeab3",
   "metadata": {},
   "outputs": [
    {
     "name": "stdout",
     "output_type": "stream",
     "text": [
      "twincle twincle\n",
      "little star\n",
      "how i wonder\n",
      " what you are,up above world\n",
      " so high,\n",
      " like a diamond in the sky\n"
     ]
    }
   ],
   "source": [
    "print(\"twincle twincle\")\n",
    "print(\"little star\")\n",
    "print('''how i wonder\n",
    " what you are,up above world\n",
    " so high,\n",
    " like a diamond in the sky''')"
   ]
  },
  {
   "cell_type": "markdown",
   "id": "5c15532d",
   "metadata": {},
   "source": [
    "## 6. What are the values of the given expressions?\n",
    "'Hello, world!'[1]\n",
    "'Hello, world!'[0:5]\n",
    "'Hello, world!'[:5]\n",
    "'Hello, world!'[3:]\n"
   ]
  },
  {
   "cell_type": "code",
   "execution_count": 46,
   "id": "408241ae",
   "metadata": {},
   "outputs": [
    {
     "name": "stdout",
     "output_type": "stream",
     "text": [
      "e\n",
      "Hello\n",
      "Hello\n",
      "lo, world!\n"
     ]
    }
   ],
   "source": [
    "print('Hello, world!'[1])\n",
    "print('Hello, world!'[0:5])\n",
    "print('Hello, world!'[:5])\n",
    "print('Hello, world!'[3:])\n"
   ]
  },
  {
   "cell_type": "markdown",
   "id": "69bbc6bc",
   "metadata": {},
   "source": [
    "## 7. What are the values of the following expressions?\n",
    "'Hello'.upper()\n",
    "'Hello'.upper().isupper()\n",
    "'Hello'.upper().lower()\n"
   ]
  },
  {
   "cell_type": "code",
   "execution_count": 47,
   "id": "a5fdf197",
   "metadata": {},
   "outputs": [
    {
     "name": "stdout",
     "output_type": "stream",
     "text": [
      "HELLO\n",
      "True\n",
      "hello\n"
     ]
    }
   ],
   "source": [
    "print('Hello'.upper())\n",
    "print('Hello'.upper().isupper())\n",
    "print('Hello'.upper().lower())\n"
   ]
  },
  {
   "cell_type": "markdown",
   "id": "cca9d42f",
   "metadata": {},
   "source": [
    "## 8. What are the values of the following expressions?\n",
    "'Remember, remember, the fifth of July.'.split()\n",
    "'-'.join('There can only one.'.split())\n"
   ]
  },
  {
   "cell_type": "code",
   "execution_count": 48,
   "id": "3ac10d6c",
   "metadata": {},
   "outputs": [
    {
     "name": "stdout",
     "output_type": "stream",
     "text": [
      "['Remember,', 'remember,', 'the', 'fifth', 'of', 'July.']\n",
      "There-can-only-one.\n"
     ]
    }
   ],
   "source": [
    "print('Remember, remember, the fifth of July.'.split())\n",
    "print('-'.join('There can only one.'.split()))\n"
   ]
  },
  {
   "cell_type": "markdown",
   "id": "4c63a89f",
   "metadata": {},
   "source": [
    "## 9. What are the methods for right-justifying, left-justifying, and centering a string?"
   ]
  },
  {
   "cell_type": "markdown",
   "id": "3138874e",
   "metadata": {},
   "source": [
    " The methods which are used to right-justification ,left-justification and centering a string are .rjust(),.ljust() and.center() functions."
   ]
  },
  {
   "cell_type": "code",
   "execution_count": 56,
   "id": "af5f13ec",
   "metadata": {},
   "outputs": [
    {
     "data": {
      "text/plain": [
       "'                ravi'"
      ]
     },
     "execution_count": 56,
     "metadata": {},
     "output_type": "execute_result"
    }
   ],
   "source": [
    "'ravi'.rjust(20)"
   ]
  },
  {
   "cell_type": "code",
   "execution_count": 57,
   "id": "15ceabeb",
   "metadata": {},
   "outputs": [
    {
     "data": {
      "text/plain": [
       "'ravi                '"
      ]
     },
     "execution_count": 57,
     "metadata": {},
     "output_type": "execute_result"
    }
   ],
   "source": [
    "'ravi'.ljust(20)"
   ]
  },
  {
   "cell_type": "code",
   "execution_count": 59,
   "id": "bb136a57",
   "metadata": {},
   "outputs": [
    {
     "data": {
      "text/plain": [
       "'        ravi        '"
      ]
     },
     "execution_count": 59,
     "metadata": {},
     "output_type": "execute_result"
    }
   ],
   "source": [
    "'ravi'.center(20)"
   ]
  },
  {
   "cell_type": "markdown",
   "id": "00728beb",
   "metadata": {},
   "source": [
    "## 10. What is the best way to remove whitespace characters from the start or end?"
   ]
  },
  {
   "cell_type": "markdown",
   "id": "7b62ad09",
   "metadata": {},
   "source": [
    "In strings method we have the best way to remove whitespace characters from start or end,or both is lstrip(),rstrip(),strip()."
   ]
  },
  {
   "cell_type": "code",
   "execution_count": 60,
   "id": "cbe63f06",
   "metadata": {},
   "outputs": [],
   "source": [
    "a = \"                Raviteja               \""
   ]
  },
  {
   "cell_type": "code",
   "execution_count": 62,
   "id": "443c4dd0",
   "metadata": {},
   "outputs": [
    {
     "data": {
      "text/plain": [
       "'                Raviteja'"
      ]
     },
     "execution_count": 62,
     "metadata": {},
     "output_type": "execute_result"
    }
   ],
   "source": [
    "a.rstrip()             #it remove whitespace in endings"
   ]
  },
  {
   "cell_type": "code",
   "execution_count": 63,
   "id": "3bbdae41",
   "metadata": {},
   "outputs": [
    {
     "data": {
      "text/plain": [
       "'Raviteja               '"
      ]
     },
     "execution_count": 63,
     "metadata": {},
     "output_type": "execute_result"
    }
   ],
   "source": [
    "a.lstrip()             #it removes whitespace in starting"
   ]
  },
  {
   "cell_type": "code",
   "execution_count": 64,
   "id": "6d16d05d",
   "metadata": {},
   "outputs": [
    {
     "data": {
      "text/plain": [
       "'Raviteja'"
      ]
     },
     "execution_count": 64,
     "metadata": {},
     "output_type": "execute_result"
    }
   ],
   "source": [
    "a.strip()              #it remove from both starting and ending"
   ]
  }
 ],
 "metadata": {
  "kernelspec": {
   "display_name": "Python 3",
   "language": "python",
   "name": "python3"
  },
  "language_info": {
   "codemirror_mode": {
    "name": "ipython",
    "version": 3
   },
   "file_extension": ".py",
   "mimetype": "text/x-python",
   "name": "python",
   "nbconvert_exporter": "python",
   "pygments_lexer": "ipython3",
   "version": "3.8.8"
  }
 },
 "nbformat": 4,
 "nbformat_minor": 5
}
